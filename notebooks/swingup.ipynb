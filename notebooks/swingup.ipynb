{
 "cells": [
  {
   "cell_type": "code",
   "execution_count": null,
   "id": "88a48686",
   "metadata": {
    "colab": {
     "base_uri": "https://localhost:8080/"
    },
    "id": "88a48686",
    "outputId": "05c27a3a-0b2c-43ec-fe69-2dc1363ffa1f"
   },
   "outputs": [],
   "source": [
    "import os, pathlib\n",
    "os.chdir(pathlib.Path(globals()['_dh'][0]).parent)"
   ]
  },
  {
   "cell_type": "code",
   "execution_count": null,
   "id": "ea69124a",
   "metadata": {
    "id": "ea69124a"
   },
   "outputs": [],
   "source": [
    "from pendsim import sim, controller, viz\n",
    "import numpy as np\n",
    "import matplotlib.pyplot as plt\n",
    "from IPython.display import HTML"
   ]
  },
  {
   "cell_type": "markdown",
   "id": "2bca98c6",
   "metadata": {
    "id": "2bca98c6"
   },
   "source": [
    "# Swing Up of Pendulum From Resting Position With Energy Control\n",
    "\n",
    "It's quite alright if the pendulum starts from an upright position. We can stabilize it with simple controllers, even as simple as Bang-Bang (On-Off) control. But what about when it is in the downward position? We will need a controller that can guide the pendulum from the lower position, completely through the non-linear region (near $\\theta=\\pm \\pi/2$), and to the upward position.\n",
    "\n",
    "Any simple (linear) controller will fail to guide us through this non-linear region. So what do we do? Fortunately, we have an option: swing up by energy control.\n",
    "\n",
    "The swing-up strategy exploits that the potential energy of the system is a good proxy of the state. Namely, that the maximum energy point is also the desired point for the controller: at $\\theta=0$, the small mass $m$ is as high as it could possibly be. At $\\theta=\\pi$, the energy is at a minimum. And the position of the large mass has no effect on the potential energy of the system, because the cart is always on level ground. A successful swing-up strategy will pump energy into the system to maximize the potential energy.\n",
    "\n",
    "Functions which map the system state to a scalar, and which serve as a good proxy for the success or failure of a the state, are Lyapunov functions. A increase (or decrease) in a Lyapunov function must always result in driving the system towards a goal state. With these properties, so long as the Lyapunov function increases (or decreases), the state will be driven towards the goal. A control strategy can then be derived from the derivative of the Lyapunov function, with the control input driving the Lyapunov function in the desired direction.\n",
    "\n",
    "Often, the energy of the system under control is a good starting point for deriving a Lyapunov function.\n",
    "\n",
    "In this case, we use the following as the Lyapunov function:\n",
    "\n",
    "$$\n",
    "V = \\frac{(E-E_0)^2}{2} \n",
    "$$\n",
    "\n",
    "Rearranging potential energy terms and differentiating yields the control strategy:\n",
    "\n",
    "$$ \n",
    "u = k (E - E_0) \\dot{\\theta} \\cos{\\theta}\n",
    "$$\n",
    "\n",
    "Which we can see is a function of the energy loss, the angular velocity, and the pendulum position. In particular, when $\\theta=\\pi/2$ or $\\theta=-\\pi/2$, no amount of sideways push will change the pendulum angle. When $\\theta=\\pi$ or $\\theta=0$, a sideways push affects the pendulum angle the most. This behavior is captured by the $\\cos{\\theta}$ term. This term is then scaled by $\\dot{\\theta}$; when $\\dot{\\theta}$ is positive, the control action pushes left; when $\\dot{\\theta}$ is negative, the control action pushes right. Finally, the amount of push is scaled by the energy of the system; when $E=E_0$, the action is 0. \n",
    "\n",
    "The derivation of this strategy and particular details can be found in Astrom's [Swinging up a Pendulum by Energy Control](https://www.sciencedirect.com/science/article/pii/S0005109899001405). \n",
    "\n",
    "For the actual strategy, rather than using an arbitrary gain $k$, we use a coefficient $n$ times the gravity $g$ as the gain. "
   ]
  },
  {
   "cell_type": "markdown",
   "id": "2cc23078",
   "metadata": {
    "id": "2cc23078"
   },
   "source": [
    "$u = n g \\hspace{0.25em} \\text{sign}(\\hspace{0.25em}  (E - E_0) \\dot{\\theta} \\cos{\\theta} \\hspace{0.25em} )$"
   ]
  },
  {
   "cell_type": "code",
   "execution_count": null,
   "id": "b0d4343c",
   "metadata": {
    "id": "b0d4343c"
   },
   "outputs": [],
   "source": [
    "force_fn = lambda t: 0\n",
    "dt = 0.01\n",
    "t_final = 20"
   ]
  },
  {
   "cell_type": "code",
   "execution_count": null,
   "id": "9ed3dffb",
   "metadata": {
    "id": "9ed3dffb"
   },
   "outputs": [],
   "source": [
    "pend = sim.Pendulum(\n",
    "    2.0,\n",
    "    1.0,\n",
    "    1.0,\n",
    "    initial_state = np.array([0.0, 0.0, -np.pi, 0.0])\n",
    ")"
   ]
  },
  {
   "cell_type": "code",
   "execution_count": null,
   "id": "9cf08f6c",
   "metadata": {
    "id": "9cf08f6c"
   },
   "outputs": [],
   "source": [
    "# function to take the sign of `x` argument\n",
    "def sign(x):\n",
    "    if x >= 0:\n",
    "        return 1\n",
    "    else:\n",
    "        return -1\n",
    "# function to wrap pi\n",
    "def wrappi(theta):\n",
    "    return (theta + np.pi) % (2 * np.pi) - np.pi"
   ]
  },
  {
   "cell_type": "code",
   "execution_count": null,
   "id": "57c881c1",
   "metadata": {
    "id": "57c881c1"
   },
   "outputs": [],
   "source": [
    "class SwingUp(controller.Controller):\n",
    "    def __init__(self, k, pend):\n",
    "        self.k = k\n",
    "        # gravity constant of the pendulum\n",
    "        self.pend = pend\n",
    "        # prev error for PID control\n",
    "        self.prev_err, self.integrator = 0, 0\n",
    "    def policy(self, state, dt):\n",
    "        # unpack state\n",
    "        _, _, theta, thetadot = state\n",
    "        # potential energy\n",
    "        E = - self.pend.m*self.pend.g*self.pend.l*np.cos(theta)\n",
    "        # potential energy zero-point\n",
    "        E0 = 0\n",
    "        # swing up action\n",
    "        swingup = self.k * self.pend.g * sign((E - E0) * thetadot * np.cos(theta))\n",
    "        # pid action\n",
    "        pid = self.do_pid(dt, 50, 0, 2, state)\n",
    "        # weight over pid/swingup\n",
    "        wt_c = 0.25\n",
    "        wt = np.exp(-theta**2/wt_c)\n",
    "        # if near theta, wt -> 1 and (1-wt) -> 0\n",
    "        action = wt * pid + (1-wt) * swingup\n",
    "        return action, {}"
   ]
  },
  {
   "cell_type": "markdown",
   "id": "6352b498",
   "metadata": {
    "id": "6352b498"
   },
   "source": [
    "Let's have a look at what's going on here. First, we take $\\theta$ and $\\dot{\\theta}$ out of the state. This control policy doesn't rely on $x$ and $\\dot{x}$.\n",
    "\n",
    "Then, we calculate the potential energy of the pendulum position: $E = - m g l \\cos{\\theta}$. The maximum potential energy with that calculation can be had when $E=0$.\n",
    "\n",
    "This is a hybrid policy, where we either want to take action from a PD (*) control strategy (if the pendulum is up in the air) or from a swing-up strategy (if it is hanging). So we calculate both.\n",
    "\n",
    "Finally, we will multiply these two strategies by a weighted average.\n",
    "\n",
    "(*) PD, and not PID, because integral gain is set to zero -- to see why that results in good control for this system, have a look at the \"PD\" notebook!"
   ]
  },
  {
   "cell_type": "markdown",
   "id": "c0faa470",
   "metadata": {
    "id": "c0faa470"
   },
   "source": [
    "The weighted average is shown below.\n",
    "\n",
    "We can see that in the area near $\\pi=0$, the controller chooses mostly a PD strategy, while anywhere far away from there, it chooses a swing-up strategy; it switches rapidly, but smoothly, in the area near $\\pi=0$ from one to the other.\n",
    "\n",
    "We need to be careful with such hybrid control strategies; they can have mysterious results in the boundary region. But this one seems to work OK, and besides, this is a simulation!"
   ]
  },
  {
   "cell_type": "code",
   "execution_count": null,
   "id": "ff9b6ecf",
   "metadata": {
    "colab": {
     "base_uri": "https://localhost:8080/",
     "height": 279
    },
    "id": "ff9b6ecf",
    "outputId": "d9cc02cf-baa8-4e1f-8e21-a72ebbb2bbb4"
   },
   "outputs": [],
   "source": [
    "x = np.linspace(-np.pi, np.pi, 600)\n",
    "y1 = np.exp(-x**2/0.25)\n",
    "y2 = 1-np.exp(-x**2/0.25)\n",
    "fig, ax = plt.subplots()\n",
    "for y, label in zip((y1, y2), (\"PD\", \"Swing-up\")):\n",
    "    ax.plot(x, y, label=label)\n",
    "ax.legend()\n",
    "ax.set_ylabel(\"Weight\")\n",
    "ax.set_xlabel(\"Theta\")\n",
    "plt.show()"
   ]
  },
  {
   "cell_type": "markdown",
   "id": "b2511b7f",
   "metadata": {
    "id": "b2511b7f"
   },
   "source": [
    "Make the controller and run the simulation."
   ]
  },
  {
   "cell_type": "code",
   "execution_count": null,
   "id": "9c29e750",
   "metadata": {
    "id": "9c29e750"
   },
   "outputs": [],
   "source": [
    "cont = SwingUp(0.5, pend)"
   ]
  },
  {
   "cell_type": "code",
   "execution_count": null,
   "id": "53fca28f",
   "metadata": {
    "colab": {
     "base_uri": "https://localhost:8080/"
    },
    "id": "53fca28f",
    "outputId": "e0b4c90b-b121-4978-b560-b078dc2693f2"
   },
   "outputs": [],
   "source": [
    "simu = sim.Simulation(dt, t_final, force_fn)\n",
    "\n",
    "res = simu.simulate(pend, cont)"
   ]
  },
  {
   "cell_type": "markdown",
   "id": "52f91735",
   "metadata": {
    "id": "52f91735"
   },
   "source": [
    "Now, a plot of $\\theta$ over time."
   ]
  },
  {
   "cell_type": "code",
   "execution_count": null,
   "id": "0f295dea",
   "metadata": {
    "colab": {
     "base_uri": "https://localhost:8080/",
     "height": 279
    },
    "id": "0f295dea",
    "outputId": "0bbeceb0-f862-4173-96a0-d730e3613ece"
   },
   "outputs": [],
   "source": [
    "plt.plot(res[(\"state\", \"t\")])\n",
    "plt.ylabel(r\"$\\theta$ (rad)\")\n",
    "plt.xlabel(\"Time (s)\")\n",
    "plt.show()"
   ]
  },
  {
   "cell_type": "markdown",
   "id": "2977f9a5",
   "metadata": {
    "id": "2977f9a5"
   },
   "source": [
    "We can see the controller working as intended. We know that energy is a function of $\\theta$ only, so this chart shows that the energy is steadily pumped into the system. Finally, when $\\theta$ reaches the zero point, the PD controller smoothly takes over, and removes the remaining perturbance."
   ]
  },
  {
   "cell_type": "markdown",
   "id": "13a9ec1f",
   "metadata": {
    "id": "13a9ec1f"
   },
   "source": [
    "This plot shows the control action over time. The swing-up strategy manifests as a square wave: that's the `sign` function. What we are doing here is adding energy to the pendulum as quickly as we possibly can. Either we're pushing as hard as we can left, or as hard as we can right. Because the potential energy is a scalar, pushing in either direction is adding energy, so long as we do it at the right time. Then, we can see the transition region, which has an interesting and turbulent control signal. Finally, the action of the PD controller takes over, with the little bit of derivative gain damping out the oscillations in the system."
   ]
  },
  {
   "cell_type": "code",
   "execution_count": null,
   "id": "6d0cd843",
   "metadata": {
    "colab": {
     "base_uri": "https://localhost:8080/",
     "height": 279
    },
    "id": "6d0cd843",
    "outputId": "8c679dd7-31f2-4bb4-dfef-af7471ba9f9f"
   },
   "outputs": [],
   "source": [
    "plt.plot(res[(\"control action\", \"control action\")])\n",
    "plt.ylabel(\"Control Action (N)\")\n",
    "plt.xlabel(\"Time (s)\")\n",
    "plt.show()"
   ]
  },
  {
   "cell_type": "markdown",
   "id": "c435315a",
   "metadata": {
    "id": "c435315a"
   },
   "source": [
    "To see the relationship between energy and control action more clearly, we superimpose both onto the same plot:"
   ]
  },
  {
   "cell_type": "code",
   "execution_count": null,
   "id": "2a7c937d",
   "metadata": {
    "colab": {
     "base_uri": "https://localhost:8080/",
     "height": 279
    },
    "id": "2a7c937d",
    "outputId": "ea5eeeff-470e-4518-ca7d-d8f75b67c38e"
   },
   "outputs": [],
   "source": [
    "plt.plot(res[(\"energy\", \"potential\")], \"b\", label=\"Potential Energy (J)\")\n",
    "plt.plot(res[(\"control action\", \"control action\")], \"g--\", label=\"Control Action (N)\")\n",
    "plt.xlabel(\"Time (s)\")\n",
    "plt.legend()\n",
    "plt.show()"
   ]
  },
  {
   "cell_type": "markdown",
   "id": "8171e54f",
   "metadata": {
    "id": "8171e54f"
   },
   "source": [
    "And this is the controller we have designed: one which adds energy as quickly as possible, bringing the pendulum to a higher energy state, which we then stabilize using a different PD control strategy."
   ]
  },
  {
   "cell_type": "markdown",
   "id": "cfb35110",
   "metadata": {
    "id": "cfb35110"
   },
   "source": [
    "And finally, the animation of our strategy:"
   ]
  },
  {
   "cell_type": "code",
   "execution_count": null,
   "id": "e253622a",
   "metadata": {
    "id": "e253622a",
    "outputId": "00398165-a361-477f-ed52-b8ba18aa1a03"
   },
   "outputs": [],
   "source": [
    "anim = viz.Visualizer(res, pend, dt)\n",
    "ani = anim.animate()\n",
    "HTML(ani.to_html5_video())"
   ]
  }
 ],
 "metadata": {
  "colab": {
   "include_colab_link": true,
   "name": "swingup.ipynb",
   "provenance": []
  },
  "kernelspec": {
   "display_name": "pensim",
   "language": "python",
   "name": "python3"
  },
  "language_info": {
   "codemirror_mode": {
    "name": "ipython",
    "version": 3
   },
   "file_extension": ".py",
   "mimetype": "text/x-python",
   "name": "python",
   "nbconvert_exporter": "python",
   "pygments_lexer": "ipython3",
   "version": "3.7.9"
  }
 },
 "nbformat": 4,
 "nbformat_minor": 5
}
