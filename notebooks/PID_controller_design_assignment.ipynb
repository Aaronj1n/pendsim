{
  "cells": [
    {
      "cell_type": "markdown",
      "id": "a3bd638b",
      "metadata": {
        "id": "a3bd638b"
      },
      "source": [
        "This initial code installs and imports necessary packages to run the program."
      ]
    },
    {
      "cell_type": "code",
      "execution_count": null,
      "id": "0cfd559d",
      "metadata": {
        "id": "0cfd559d"
      },
      "outputs": [],
      "source": [
        "GOOGLE_COLAB = True"
      ]
    },
    {
      "cell_type": "code",
      "execution_count": null,
      "id": "4626d5c8",
      "metadata": {
        "id": "4626d5c8"
      },
      "outputs": [],
      "source": [
        "if not GOOGLE_COLAB:\n",
        "    %cd ../\n",
        "else:\n",
        "    !pip install git+https://github.com/rland93/pendsim.git"
      ]
    },
    {
      "cell_type": "code",
      "execution_count": null,
      "id": "7129082a",
      "metadata": {
        "id": "7129082a",
        "scrolled": false
      },
      "outputs": [],
      "source": [
        "from pendsim import sim, controller, viz\n",
        "import numpy as np\n",
        "import matplotlib.pyplot as plt\n",
        "from IPython.display import HTML"
      ]
    },
    {
      "cell_type": "markdown",
      "id": "ed39741c",
      "metadata": {
        "id": "ed39741c"
      },
      "source": [
        "# PID Notebook\n",
        "\n",
        "PID, or proportional-integral-derivative, control is a model-free feedback policy which uses an error signal and tunable gains to compute a control action that produces a desired system response.\n",
        "\n",
        "![PID.png](https://github.com/rland93/pendsim/blob/master/notebooks/PID.png?raw=1)\n",
        "\n",
        "The block diagram of the PID system in the time domain is shown above. Given the error signal $e(t)$, we tune the three gains, $K_p, K_i$ and $K_d$, to generate the control signal, $u(t)$. The control signal is an input to the physical system (the *plant / process*), which finally produces some output $y(t)$. (Graphic is sourced from Wikipedia).\n",
        "\n",
        "For more information about PID control, see [Feedback Systems:\n",
        "An Introduction for Scientists and Engineers, Ch 10](https://people.duke.edu/~hpgavin/SystemID/References/Astrom-Feedback-2006.pdf), or for a less technical introduction, [Wikipedia](https://en.wikipedia.org/wiki/PID_controller)."
      ]
    },
    {
      "cell_type": "markdown",
      "id": "367cfe9b",
      "metadata": {
        "id": "367cfe9b"
      },
      "source": [
        "---\n",
        "#Part 1: System Analysis\n",
        "Consider the inverted pendulum on a cart system. The cart can move horizontally, and the pendulum is free to rotate about the point that it is attached to the cart. For simplicity, let's neglect friction and inertia. \n",
        "\n",
        "The system has the following parameters:\n",
        "*   $M$ = mass of the cart\n",
        "*   $m$ = mass on the end of the pendulum\n",
        "*   $l$ = length of the pendulum\n",
        "*   $g$ = gravity\n",
        "\n",
        "The system's states that vary with time are:\n",
        "*   $x$ = cart position\n",
        "*   $\\dot x$ = cart velocity\n",
        "*   $\\theta$ = pendulum angle (where $\\theta=0$ corresponds to the upright position)\n",
        "*   $\\dot\\theta$ = pendulum angular velocity\n",
        "\n",
        "And some horizontal force or \"push\" of the cart is given by $u$.\n",
        "\n",
        "The linearized system can be modeled in the time domain as \n",
        "\n",
        "$${\\bf \\dot x} = A{\\bf x} + Bu $$\n",
        "\n",
        "Written out, this is  \n",
        "$$\n",
        "\\begin{bmatrix} \\dot{x}\\\\ \\ddot{x}\\\\ \\dot{\\theta}\\\\ \\ddot{\\theta}\\end{bmatrix}  =\n",
        "\\begin{bmatrix}\n",
        "0 & 1 & 0 & 0 \\\\\n",
        "0 & 0 &\\frac{m g}{M} & 0 \\\\\n",
        "0 & 0 & 0 & 1 \\\\\n",
        "0 & 0 & \\frac{g (M+m)}{Ml} & 0 \\\\\n",
        "\\end{bmatrix} \n",
        "\\begin{bmatrix} x\\\\ \\dot{x}\\\\ \\theta\\\\ \\dot{\\theta}\\end{bmatrix}  \n",
        "+\n",
        "\\begin{bmatrix}\n",
        "0 \\\\\n",
        "\\frac{1}{M} \\\\ \n",
        "0 \\\\\n",
        "\\frac{1}{Ml} \\\\\n",
        "\\end{bmatrix}\n",
        "u\n",
        "$$\n",
        "\n",
        "Assuming we can measure the angle $\\theta$, our goal is to design a proportional-derivative (PD) controller that can stabilize an inverted pendulum on a cart in the upright position (i.e., $\\theta=0$) when it is released from rest at a certain angle different from the upright position (i.e., $\\theta \\neq 0$). \n",
        "\n",
        "Therefore, we will consider a control law of the form\n",
        "$$u(t) = k_p e(t) + k_d \\dot e(t)$$\n",
        "where $e(t)=\\theta_d(t)-\\theta(t)$ is the error signal that is equal to the difference between the desired angle ($\\theta_d=0$ in the upright position) and the measured angle $\\theta$. \n",
        "\n",
        "In the code below, define your system. Choose values for the mass of the cart (choose something between 0.1kg and 10kg), the mass on the end of the pendulum (choose something between 0.1kg and 10kg), and the length of the pendulum (choose something between 0.1 and 3 meters).\n",
        "\n",
        "## Include the following in your report:\n",
        "*   Write down the closed-loop transfer function relating the output $\\theta$ to the input $\\theta_d$. \n",
        "*   Write down the poles of the closed-loop system as a function of the control gains and model parameters.\n",
        "*   What is the condition on $k_p$ such that the poles are complex (i.e., for what values of $k_p$ will the poles have non-zero imaginary parts)?\n",
        "*   Write down the parameter values you chose. "
      ]
    },
    {
      "cell_type": "code",
      "execution_count": null,
      "id": "adeeb64a",
      "metadata": {
        "id": "adeeb64a"
      },
      "outputs": [],
      "source": [
        "pend = sim.Pendulum(\n",
        "    1.0, # Pendulum base mass [kg] - CHANGE THIS VALUE\n",
        "    1.0, # Pendulum ball mass [kg] - CHANGE THIS VALUE\n",
        "    1.0, # Pendulum length [m] - CHANGE THIS VALUE\n",
        "    \n",
        "    # state = [x [m], xdot [m/s], theta [rad], thetadot [rad/s]]\n",
        "    initial_state = np.array([0.0, 0.0, 0.1, 0.0]) \n",
        "    # MAY CHANGE THIRD VALUE IN THIS ARRAY TO A DIFFERENT SMALL VALUE.\n",
        "    # YOU WILL CHANGE THIS VALUE AGAIN AFTER TUNING A PD CONTROLLER.\n",
        ")\n",
        "\n",
        "dt, t_final = 0.01, 10 # time step and simulation time [s]\n",
        "# define the force that is applied to the cart [N] - don't worry about this function\n",
        "def force_func(t):\n",
        "    return 0 \n",
        "simu10 = sim.Simulation(dt, t_final, force_func)"
      ]
    },
    {
      "cell_type": "markdown",
      "id": "615b91a2",
      "metadata": {
        "id": "615b91a2"
      },
      "source": [
        "---\n",
        "#Part 2: Controller Design\n",
        "\n",
        "A PID controller has three gains, that we call `kp`, `ki`, `kd` here. These are also called the proportional, integral, and derivative gains, respectively.\n",
        "\n",
        "To start, set all the gains equal to zero. This zero-gain controller fails to stabilize the pendulum system because all of the coefficients in front of the actuation are 0! So, with all gains equal to 0, the controller takes no action at all. Therefore, $\\theta$ increases, and the pendulum simply falls over. The plot shows $\\theta$ changing from 0 to $2\\pi$ radians as the pendulum swings around and around since there is no friction or inertia."
      ]
    },
    {
      "cell_type": "code",
      "execution_count": null,
      "id": "a3f9fe71",
      "metadata": {
        "id": "a3f9fe71",
        "scrolled": false
      },
      "outputs": [],
      "source": [
        "kp, ki, kd = 0.0, 0.0, 0.0 # control gain values\n",
        "cont = controller.PID((kp, ki, kd))\n",
        "results = simu10.simulate(pend, cont)\n",
        "fig1, ax1 = plt.subplots()\n",
        "ax1.plot(results[('state','t')], 'k--', label='theta')\n",
        "\n",
        "plt.show()"
      ]
    },
    {
      "cell_type": "markdown",
      "id": "2c2877cc",
      "metadata": {
        "id": "2c2877cc"
      },
      "source": [
        "And for a visual confirmation of our suspicion, we visualize the virtual experiment:"
      ]
    },
    {
      "cell_type": "code",
      "execution_count": null,
      "id": "07aaf68e",
      "metadata": {
        "id": "07aaf68e"
      },
      "outputs": [],
      "source": [
        "visu = viz.Visualizer(results, pend, dt)\n",
        "ani = visu.animate()\n",
        "HTML(ani.to_html5_video())"
      ]
    },
    {
      "cell_type": "markdown",
      "id": "1fa6e7bd",
      "metadata": {
        "id": "1fa6e7bd"
      },
      "source": [
        "To tune the PID controller, start by changing the proportional gain, called `kp`. Start at zero and slowly increase it to see what happens. Let's create several controllers, increasing the gain $k_p$ for each controller. Feel free to change this in the code below. Our ultimate goal is to stabilize the pendulum system in the upright position, so that means we want $\\theta$ to settle at 0 radians."
      ]
    },
    {
      "cell_type": "code",
      "execution_count": null,
      "id": "9038e91e",
      "metadata": {
        "id": "9038e91e"
      },
      "outputs": [],
      "source": [
        "# starting gain\n",
        "kp = 0.0\n",
        "# number of times to increase the gain\n",
        "n = 32\n",
        "# amount to increase by\n",
        "increase_by = 1.5 # YOU CAN CHANGE THIS\n",
        "# empty lists\n",
        "conts = []\n",
        "pends = [pend] * n\n",
        "gains = []\n",
        "for _ in range(n):\n",
        "    # increase the gain\n",
        "    kp += increase_by\n",
        "    # set ki, kd to 0\n",
        "    pid = kp, 0.0, 0.0\n",
        "    conts.append(controller.PID(pid))\n",
        "    gains.append(kp)\n",
        "# simulate each controller\n",
        "all_results = simu10.simulate_multiple(pends, conts)"
      ]
    },
    {
      "cell_type": "markdown",
      "id": "ba608916",
      "metadata": {
        "id": "ba608916"
      },
      "source": [
        "Now, let's simulate the system and plot the values of $\\theta$ for each gain."
      ]
    },
    {
      "cell_type": "code",
      "execution_count": null,
      "id": "f3a5e0b9",
      "metadata": {
        "id": "f3a5e0b9",
        "scrolled": false
      },
      "outputs": [],
      "source": [
        "nrows, ncols = 8, 4\n",
        "fig1, ax1 = plt.subplots(nrows=nrows, ncols=ncols, sharex=True, sharey=True, figsize=(15,20))\n",
        "axn, ax_idxs = 0, {}\n",
        "# index helper map for plots\n",
        "for i in range(nrows):\n",
        "    for j in range(ncols):\n",
        "        ax_idxs[axn] = (i, j)\n",
        "        axn += 1\n",
        "# create figures and set the title as the gain\n",
        "for g, (idx, res), (axi, axj) in zip(gains, all_results.groupby(level=0), ax_idxs.values()):\n",
        "    res.index = res.index.droplevel(0)\n",
        "    ax1[axi, axj].plot(res[('state', 't')])\n",
        "    ax1[axi, axj].set_title('gain=' + str(g))\n",
        "# label figures\n",
        "for i in range(nrows):\n",
        "    ax1[i, 0].set_ylabel('theta (rad)')\n",
        "for j in range(ncols):\n",
        "    ax1[-1, j].set_xlabel('time (s)')\n",
        "plt.show()"
      ]
    },
    {
      "cell_type": "markdown",
      "id": "3ff3e136",
      "metadata": {
        "id": "3ff3e136"
      },
      "source": [
        "We can see that the controller keeps the pendulum's angle close to zero with a large enough $k_p$. Set $k_p$ to this value in the code below.\n",
        "\n",
        "These results should make intuitive sense with a bit of control systems knowledge: increasing the proportional gain makes the system respond faster and also increases the frequency of oscillation.\n",
        "\n",
        "The pendulum is (somewhat) stable around $\\theta=0$, but we still have a pesky oscillation. Can we remove it?\n",
        "\n",
        "There is one more thing going on here. It appears that the system is oscillating but also that the oscillations are increasing in magnitude. Eventually, this instability will compound enough to topple the pendulum, despite having a proportional controller in place with a suitable gain. To see this, we can increase the simulation time, this time to 40 seconds instead of 10."
      ]
    },
    {
      "cell_type": "code",
      "execution_count": null,
      "id": "6983916e",
      "metadata": {
        "id": "6983916e"
      },
      "outputs": [],
      "source": [
        "kp = 30.0 # CHANGE THIS TO A REASONABLE VALUE YOU FOUND WHEN TUNING ABOVE\n",
        "cont = controller.PID( (kp, 0, 0) )\n",
        "simu30 = sim.Simulation(dt, 40, force_func)\n",
        "res_proportional = simu30.simulate(pend, cont)"
      ]
    },
    {
      "cell_type": "markdown",
      "id": "78a37ca6",
      "metadata": {
        "id": "78a37ca6"
      },
      "source": [
        "And we plot our longer-term simulation:"
      ]
    },
    {
      "cell_type": "code",
      "execution_count": null,
      "id": "f97c8a1f",
      "metadata": {
        "id": "f97c8a1f",
        "scrolled": true
      },
      "outputs": [],
      "source": [
        "_, ax = plt.subplots()\n",
        "ax.plot(res_proportional[('state', 't')])\n",
        "ax.set_ylabel(\"Angle (rads)\")\n",
        "ax.set_xlabel(\"Time (s)\")\n",
        "plt.show()"
      ]
    },
    {
      "cell_type": "markdown",
      "id": "701d3fa2",
      "metadata": {
        "id": "701d3fa2"
      },
      "source": [
        "We see that eventually the oscillation grows large enough that the inverted pendulum falls over. The controller pushes a little bit too hard right, and the pendulum overshoots a bit to the left; then, the controller pushes left, and the pendulum overshoots a bit (more!) to the right, and the process continues until the pendulum tips over.\n",
        "\n",
        "This looks like a response associated with a complex pole with positive real part: a steady oscillation bounded by an envelope of an increasing exponential -- that is, until the pendulum falls over. This is due to the non-zero initial angle.\n",
        "\n",
        "We need damping! A derivative term seeks to drive the rate of change of the error closer to zero over time. Practically, this means that it can counteract the magnitude of the steady oscillation we see (i.e., add damping to the system), and as a result, stabilize the system. "
      ]
    },
    {
      "cell_type": "markdown",
      "id": "28415af2",
      "metadata": {
        "id": "28415af2"
      },
      "source": [
        "Below, we follow the same experimental process for tuning: slowly increase $k_d$ and see the effects. In real-life systems, where failure can have expensive or dangerous consequences, tuning is a very delicate process, typically informed heavily by process knowledge. In this simulated world, we have no such concerns. "
      ]
    },
    {
      "cell_type": "code",
      "execution_count": null,
      "id": "ff3b4580",
      "metadata": {
        "id": "ff3b4580"
      },
      "outputs": [],
      "source": [
        "kp = 30.0 # CHANGE THIS TO A REASONABLE VALUE YOU FOUND WHEN TUNING ABOVE \n",
        "kd = 0.0\n",
        "n = 16\n",
        "increase_by = 0.25 # YOU CAN CHANGE THIS\n",
        "conts = []\n",
        "pends = [pend] * n\n",
        "gains = []\n",
        "for _ in range(n):\n",
        "    # increase the gain\n",
        "    kd += increase_by\n",
        "    # set ki, kd to 0\n",
        "    pid = kp, 0.0, kd\n",
        "    conts.append(controller.PID(pid))\n",
        "    gains.append(kd)\n",
        "# simulate each controller\n",
        "all_results = simu10.simulate_multiple(pends, conts)\n",
        "\n",
        "nrows, ncols = 4, 4\n",
        "fig1, ax1 = plt.subplots(nrows=nrows, ncols=ncols, sharex=True, sharey=True, figsize=(15,12))\n",
        "axn, ax_idxs = 0, {}\n",
        "for i in range(nrows):\n",
        "    for j in range(ncols):\n",
        "        ax_idxs[axn] = (i, j)\n",
        "        axn += 1\n",
        "for g, (idx, res), (axi, axj) in zip(gains, all_results.groupby(level=0), ax_idxs.values()):\n",
        "    res.index = res.index.droplevel(0)\n",
        "    ax1[axi, axj].plot(res[('state', 't')])\n",
        "    ax1[axi, axj].set_title('gain=' + str(g))\n",
        "# label plots\n",
        "for i in range(nrows):\n",
        "    ax1[i, 0].set_ylabel('theta (rad)')\n",
        "for j in range(ncols):\n",
        "    ax1[-1, j].set_xlabel('time (s)')\n",
        "\n",
        "plt.show()"
      ]
    },
    {
      "cell_type": "markdown",
      "id": "610a331c",
      "metadata": {
        "id": "610a331c"
      },
      "source": [
        "Now, we look again at $\\theta$. It looks significantly better! The addition of a derivative term drives the oscillations towards zero. To see the effect, we plot the two controllers next to one another, one with the $k_d$ term and one without. "
      ]
    },
    {
      "cell_type": "code",
      "execution_count": null,
      "id": "80a68a33",
      "metadata": {
        "id": "80a68a33",
        "scrolled": false
      },
      "outputs": [],
      "source": [
        "res_p_10 = simu10.simulate(pend, controller.PID((30, 0.0, 0.0))) \n",
        "# Arguments in controller.PID are PID gains (kp, ki, kd)\n",
        "# CHANGE THESE GAINS TO THOSE THAT YOU EXPERIMENTALLY FOUND TO WORK WELL.\n",
        "# CHANGE ONLY kp ABOVE, BUT CHANGE BOTH kp AND kd BELOW.\n",
        "res_pd_10 = simu10.simulate(pend, controller.PID((30, 0.0, 3.5)))\n",
        "\n",
        "fig, ax = plt.subplots()\n",
        "ax.plot(res_pd_10[('state', 't')], 'b-', label='With derivative')\n",
        "ax.plot(res_p_10[('state', 't')], 'r--', label='Without Derivative')\n",
        "ax.set_ylabel('Angle (rads)')\n",
        "ax.set_xlabel('Time (s)')\n",
        "ax.legend()\n",
        "plt.show()"
      ]
    },
    {
      "cell_type": "markdown",
      "id": "a666bf38",
      "metadata": {
        "id": "a666bf38"
      },
      "source": [
        "The difference is stark!\n",
        "\n",
        "Finally, we can look at a visualization of how this controller performed. "
      ]
    },
    {
      "cell_type": "code",
      "execution_count": null,
      "id": "2d2161a0",
      "metadata": {
        "id": "2d2161a0"
      },
      "outputs": [],
      "source": [
        "visu = viz.Visualizer(res_pd_10, pend, dt)\n",
        "ani = visu.animate(blit=True)\n",
        "HTML(ani.to_html5_video())"
      ]
    },
    {
      "cell_type": "markdown",
      "id": "a61daac7",
      "metadata": {
        "id": "a61daac7"
      },
      "source": [
        "Since this simulation is relatively accurate, we expect that a pendulum with the same attributes (length, mass, etc.), if controlled by a controller with the same gain (as expressed in Newtons of force applied), would have similar stability characteristics -- so long as we could accurately measure the state!\n",
        "\n",
        "Tuning a controller in simulation is common practice before implementing a controller in a physical system, where the consequences of bad tuning can be disasterous. If there were serious consequences to knocking over our pendulum, we would want to use the gains we have discovered here as a starting point.\n",
        "\n",
        "## Include the following in your report:\n",
        "*   Write down the final $k_p$ and $k_d$ values you chose that stabilize the system.\n",
        "*   Given these gain values and the parameter values you chose, calculate the values of the poles of your closed-loop system and plot them on the complex plane. Drawing the figure by hand is fine. \n",
        "*   Is this system stable, marginally stable, or unstable? Is the system underdamped, critically damped, or overdamped?\n",
        "*   Include the figure generated above that shows the comparison between responses with a P controller versus a PD controller.\n",
        "*   Would adding an integral term to the control law (i.e., make it a PID controller rather than a PD controller) improve the performance of this closed-loop system? Describe why or why not. Feel free to experiment with $k_i$ values in the code.\n",
        "*   Finally, change the initial condition for $\\theta$ in Part 1 above. What is the largest initial angle for which this same PD controller you already tuned can stabilize the system? (You only need to update the initial condition in the code that defines 'pend' in Part 1, rerun that code, and rerun the code at the end of Part 2 that compares the P and PD controllers.)\n",
        "*   Include the figure generated above comparing the P and PD controllers for this new initial condition.\n",
        "\n",
        "\n",
        "\n",
        "\n",
        "\n",
        "\n"
      ]
    }
  ],
  "metadata": {
    "colab": {
      "name": "MAE106_controller_design.ipynb",
      "provenance": [],
      "collapsed_sections": []
    },
    "kernelspec": {
      "display_name": "Python 3 (ipykernel)",
      "language": "python",
      "name": "python3"
    },
    "language_info": {
      "codemirror_mode": {
        "name": "ipython",
        "version": 3
      },
      "file_extension": ".py",
      "mimetype": "text/x-python",
      "name": "python",
      "nbconvert_exporter": "python",
      "pygments_lexer": "ipython3",
      "version": "3.8.12"
    }
  },
  "nbformat": 4,
  "nbformat_minor": 5
}