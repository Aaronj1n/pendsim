{
 "cells": [
  {
   "cell_type": "markdown",
   "metadata": {},
   "source": [
    "## Linear Quadratic Regulator (LQR)\n",
    "LQR is a form of optimal control that allows us to stabilize a system while minimizing the \"cost\" of doing so. A unique feature of LQR is that we can tune the weighting of variables in the cost function, which allows us to prioritize certain variables over others (e.g amount of fuel used vs performance)."
   ]
  },
  {
   "cell_type": "code",
   "execution_count": null,
   "metadata": {},
   "outputs": [],
   "source": [
    "from pendsim import sim, controller, viz, utils\n",
    "import numpy as np\n",
    "import matplotlib as plt"
   ]
  },
  {
   "cell_type": "code",
   "execution_count": null,
   "metadata": {},
   "outputs": [],
   "source": [
    "dt, t_final = 0.01, 5.0\n",
    "pend = sim.Pendulum(\n",
    "    2.0,  # Large mass, 2.0 kg\n",
    "    1.0,  # Small mass, 1.0 kg\n",
    "    2.0,  # length of arm, 2.0 meter\n",
    "    initial_state=np.array([0.0, 0.0, 0.1, 0.0]),\n",
    ")\n",
    "simu = sim.Simulation(dt, t_final, lambda t: 0)"
   ]
  }
 ],
 "metadata": {
  "language_info": {
   "name": "python"
  }
 },
 "nbformat": 4,
 "nbformat_minor": 2
}
