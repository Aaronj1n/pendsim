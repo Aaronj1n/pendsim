{
 "cells": [
  {
   "attachments": {
    "image.png": {
     "image/png": "[encoded data removed]"
    }
   },
   "cell_type": "markdown",
   "metadata": {},
   "source": [
    "## Linear Quadratic Regulator (LQR)\n",
    "LQR is a form of optimal control that allows us to stabilize a system while minimizing the \"cost\" of doing so. A unique feature of LQR is that we can tune the weighting of variables in the cost function, which allows us to prioritize certain variables over others (e.g amount of fuel used vs performance).\n",
    "\n",
    "Our cost function `J` to be minimized is given by \n",
    "\n",
    "![image.png](attachment:image.png)\n",
    "\n",
    "\n",
    "`X` and `U` represent state and control actions, respectively.\n",
    "\n",
    "We use `Q` and `R` to tune the weighting of `X` and `U`. A larger value of `Q`places a higher weighting on our state, while a larger value of `R` places a higher weighting on our control input. \n",
    "\n",
    "If we want the system to stabilize the system as fast as possible without much regard for the energy required to get there, we would choose a large value of `Q` and a small value of `R`.\n",
    "\n",
    "If we want to stabilize a system using the least amount of actuator effort and we're not concerned with how long it takes, we would choose a large value of `R` and a small value of `Q`."
   ]
  },
  {
   "cell_type": "code",
   "execution_count": null,
   "metadata": {},
   "outputs": [],
   "source": [
    "from pendsim import sim, controller, viz, utils\n",
    "import numpy as np\n",
    "import matplotlib.pyplot as plt"
   ]
  },
  {
   "cell_type": "code",
   "execution_count": null,
   "metadata": {},
   "outputs": [],
   "source": [
    "dt, t_final = 0.01, 20\n",
    "pend = sim.Pendulum(\n",
    "    2.0,  # Large mass, 2.0 kg\n",
    "    1.0,  # Small mass, 1.0 kg\n",
    "    2.0,  # length of arm, 2.0 meter\n",
    "    initial_state=np.array([0.0, 0.0, 0.1, 0.0]),\n",
    ")\n",
    "def force_func(t):\n",
    "    return 20 * np.exp( -(  ((t-2.0)/0.1)**2) )\n",
    "simu = sim.Simulation(dt, t_final, force_func)\n",
    "# simu = sim.Simulation(dt, t_final, lambda t: 0)"
   ]
  },
  {
   "cell_type": "code",
   "execution_count": null,
   "metadata": {},
   "outputs": [],
   "source": [
    "Q = 1*np.eye(4)\n",
    "R = np.eye(1)\n",
    "lqr_controller = controller.LQR(pend, dt, Q, R)\n",
    "\n",
    "this = lqr_controller.do_lqr(pend.jacA, pend.jacB, Q, R, np.array([[0], [0], [0], [0]]))\n",
    "print(np.squeeze(this) + 5)\n"
   ]
  },
  {
   "cell_type": "code",
   "execution_count": null,
   "metadata": {},
   "outputs": [],
   "source": [
    "state = pend.y_0\n",
    "action, controller_data = lqr_controller.policy(state, dt)\n",
    "deriv_input = np.empty((5,))\n",
    "print(action)\n",
    "deriv_input[0:4] = state\n",
    "deriv_input[0] = action"
   ]
  },
  {
   "cell_type": "code",
   "execution_count": null,
   "metadata": {},
   "outputs": [],
   "source": [
    "results = simu.simulate(pend, lqr_controller)"
   ]
  },
  {
   "cell_type": "code",
   "execution_count": null,
   "metadata": {},
   "outputs": [],
   "source": [
    "jacA, jacB = pend.jacA, pend.jacB\n",
    "print(f'jacA: \\n{jacA}\\n jacB: \\n{jacB}')\n",
    "discrete_jacA, discrete_jacB = lqr_controller.get_linear_sys(jacA, jacB, dt)\n",
    "print(f'discretejacA: \\n{discrete_jacA}\\n discretejacB: \\n{discrete_jacB}')"
   ]
  },
  {
   "cell_type": "code",
   "execution_count": null,
   "metadata": {},
   "outputs": [],
   "source": [
    "fig, ax = plt.subplots(nrows=2, sharex=True)\n",
    "ax[0].plot(results[(\"state\", \"x\")], label=r\"$\\theta$\")\n",
    "ax[0].set_ylabel(r\"$\\theta$\")\n",
    "\n",
    "ax[1].plot(results[(\"control action\", \"control action\")], label=\"Control Action\")\n",
    "ax[1].set_ylabel(\"Control Action\")\n",
    "ax[1].set_xlabel(\"Time Step\")\n",
    "plt.show()"
   ]
  },
  {
   "cell_type": "markdown",
   "metadata": {},
   "source": []
  },
  {
   "cell_type": "code",
   "execution_count": null,
   "metadata": {},
   "outputs": [],
   "source": [
    "pid_controller = controller.PID((10000, 200, 400))\n",
    "results_PID = simu.simulate(pend, pid_controller)\n",
    "fig, ax = plt.subplots(nrows=2, sharex=True)\n",
    "ax[0].plot(results_PID[(\"state\", \"x\")], label=r\"$\\theta$\")\n",
    "ax[0].set_ylabel(r\"$\\theta$\")\n",
    "\n",
    "ax[1].plot(results_PID[(\"control action\", \"control action\")], label=\"Control Action\")\n",
    "ax[1].set_ylabel(\"Control Action\")\n",
    "ax[1].set_xlabel(\"Time Step\")\n",
    "plt.show()\n"
   ]
  }
 ],
 "metadata": {
  "kernelspec": {
   "display_name": "Python 3",
   "language": "python",
   "name": "python3"
  },
  "language_info": {
   "codemirror_mode": {
    "name": "ipython",
    "version": 3
   },
   "file_extension": ".py",
   "mimetype": "text/x-python",
   "name": "python",
   "nbconvert_exporter": "python",
   "pygments_lexer": "ipython3",
   "version": "3.11.2"
  }
 },
 "nbformat": 4,
 "nbformat_minor": 2
}
