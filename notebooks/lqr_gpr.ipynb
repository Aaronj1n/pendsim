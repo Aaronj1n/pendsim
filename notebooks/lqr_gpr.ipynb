{
 "cells": [
  {
   "cell_type": "markdown",
   "id": "98de4bd7",
   "metadata": {},
   "source": [
    "Set system path so that pendulum module can be found."
   ]
  },
  {
   "cell_type": "code",
   "execution_count": 1,
   "id": "ab5a1ebc",
   "metadata": {
    "scrolled": true
   },
   "outputs": [
    {
     "name": "stdout",
     "output_type": "stream",
     "text": [
      "/home/ms/prg/pendulum/venv/bin/python3\n",
      "3.8.8 (default, Apr 13 2021, 19:58:26) \n",
      "[GCC 7.3.0]\n"
     ]
    }
   ],
   "source": [
    "import sys\n",
    "sys.path.insert(1, '../')\n",
    "print(sys.executable)\n",
    "print(sys.version)\n",
    "\n",
    "%matplotlib ipympl"
   ]
  },
  {
   "cell_type": "markdown",
   "id": "f3df3e56",
   "metadata": {},
   "source": [
    "Import packages"
   ]
  },
  {
   "cell_type": "code",
   "execution_count": 2,
   "id": "562e4eee",
   "metadata": {},
   "outputs": [],
   "source": [
    "import numpy as np\n",
    "from pendulum import controller, pendulum, sim, utils\n",
    "from pendulum.viz import Visualizer\n",
    "from IPython.display import HTML\n",
    "import matplotlib.pyplot as plt"
   ]
  },
  {
   "cell_type": "markdown",
   "id": "34cfe71b",
   "metadata": {},
   "source": [
    "We set the timestep of the simulation (`dt`), the total simulation time (`t_final`), and create a pendulum. We set the pendulum to be in the upright position: \n",
    "\n",
    "$$ [x, \\dot{x}, \\theta, \\dot{\\theta}] = [0,0,0,0]$$"
   ]
  },
  {
   "cell_type": "code",
   "execution_count": 11,
   "id": "0ea20f95",
   "metadata": {},
   "outputs": [],
   "source": [
    "dt = 0.01\n",
    "t_final = 15\n",
    "pend = pendulum.Pendulum(2.0, 3.0, 2.0, initial_state=np.array([0,0,-np.pi,0]))"
   ]
  },
  {
   "cell_type": "markdown",
   "id": "ca3a4678",
   "metadata": {},
   "source": [
    "These parameters define our force function. We can define this function however we like; here, it is a sinusoidal impulse function that peaks at 4 seconds."
   ]
  },
  {
   "cell_type": "code",
   "execution_count": 12,
   "id": "fd2c2dfd",
   "metadata": {},
   "outputs": [
    {
     "data": {
      "application/vnd.jupyter.widget-view+json": {
       "model_id": "3ca594a0e2184232935415451d0c7f3a",
       "version_major": 2,
       "version_minor": 0
      },
      "text/plain": [
       "Canvas(toolbar=Toolbar(toolitems=[('Home', 'Reset original view', 'home', 'home'), ('Back', 'Back to previous …"
      ]
     },
     "metadata": {},
     "output_type": "display_data"
    },
    {
     "data": {
      "text/plain": [
       "[<matplotlib.lines.Line2D at 0x7f7d082483d0>]"
      ]
     },
     "execution_count": 12,
     "metadata": {},
     "output_type": "execute_result"
    }
   ],
   "source": [
    "fig, ax = plt.subplots()\n",
    "c1, c2, c3, c4 = 2, 3.0, 7, 2\n",
    "fshift = 6\n",
    "force_fn = lambda t: c1 * np.sin(c2*t) * c3/(c4*np.sqrt(np.pi)) * np.exp(-((t-fshift)/c4)**2)\n",
    "fx = np.linspace(0,t_final, 500)\n",
    "fy = force_fn(fx)\n",
    "ax.plot(fx, fy)"
   ]
  },
  {
   "cell_type": "markdown",
   "id": "9692f877",
   "metadata": {},
   "source": [
    "Define the simulation with our parameters"
   ]
  },
  {
   "cell_type": "code",
   "execution_count": 13,
   "id": "f0768055",
   "metadata": {},
   "outputs": [],
   "source": [
    "simulation = sim.Simulation(dt, t_final, force_fn)"
   ]
  },
  {
   "cell_type": "markdown",
   "id": "20001881",
   "metadata": {},
   "source": [
    "We create a new LQR controller. $Q$ has the weighted cost function over the inputs; here, we penalize error in $\\theta$ highest. We also want to penalize control input, becuase it's assumed that we have finite actuation."
   ]
  },
  {
   "cell_type": "code",
   "execution_count": 14,
   "id": "d271ec98",
   "metadata": {},
   "outputs": [],
   "source": [
    "Q = [1,0,100,0]\n",
    "R = 0.001\n",
    "cont = controller.LQR_GPR(pend, dt, 7, 10, Q, R)"
   ]
  },
  {
   "cell_type": "markdown",
   "id": "1a75d4f1",
   "metadata": {},
   "source": [
    "`simulate` actually runs the simulation. It calculates the pendulum state for each dt from t=0 to t=`t_final`."
   ]
  },
  {
   "cell_type": "code",
   "execution_count": 15,
   "id": "1b00fc84",
   "metadata": {
    "scrolled": true
   },
   "outputs": [
    {
     "name": "stderr",
     "output_type": "stream",
     "text": [
      "100%|██████████| 1501/1501 [02:27<00:00, 10.15it/s]\n"
     ]
    }
   ],
   "source": [
    "results = simulation.simulate(pend, cont, plot=False)"
   ]
  },
  {
   "cell_type": "markdown",
   "id": "3e9d50bd",
   "metadata": {},
   "source": [
    "We can create plots on the `results` dataframe returned by the simulation. For example, here is a plot of the states:"
   ]
  },
  {
   "cell_type": "code",
   "execution_count": 16,
   "id": "0bbba4ca",
   "metadata": {},
   "outputs": [],
   "source": [
    "results[('lerr','t')] = results[('lpred','t')].shift(1, fill_value=0.0) - results[('state','t')]\n",
    "results[('nlerr','t')] = results[('nlpred','t')].shift(1, fill_value=0.0) - results[('state','t')]"
   ]
  },
  {
   "cell_type": "code",
   "execution_count": 17,
   "id": "8d16d8f0",
   "metadata": {},
   "outputs": [
    {
     "data": {
      "application/vnd.jupyter.widget-view+json": {
       "model_id": "f36e715afe854e42bb142e6153c62486",
       "version_major": 2,
       "version_minor": 0
      },
      "text/plain": [
       "Canvas(toolbar=Toolbar(toolitems=[('Home', 'Reset original view', 'home', 'home'), ('Back', 'Back to previous …"
      ]
     },
     "metadata": {},
     "output_type": "display_data"
    }
   ],
   "source": [
    "fig, ax = plt.subplots()\n",
    "for s in results['state']:\n",
    "    ax.plot(results[('state', s)], label=s)\n",
    "    ax.legend()"
   ]
  },
  {
   "cell_type": "markdown",
   "id": "4255474d",
   "metadata": {},
   "source": [
    "Here is a plot of the control actions over time."
   ]
  },
  {
   "cell_type": "code",
   "execution_count": 18,
   "id": "581430e1",
   "metadata": {},
   "outputs": [
    {
     "data": {
      "application/vnd.jupyter.widget-view+json": {
       "model_id": "ea56a85b9a59422e854a486546ebc8e0",
       "version_major": 2,
       "version_minor": 0
      },
      "text/plain": [
       "Canvas(toolbar=Toolbar(toolitems=[('Home', 'Reset original view', 'home', 'home'), ('Back', 'Back to previous …"
      ]
     },
     "metadata": {},
     "output_type": "display_data"
    },
    {
     "data": {
      "text/plain": [
       "<matplotlib.legend.Legend at 0x7f7d017d8550>"
      ]
     },
     "execution_count": 18,
     "metadata": {},
     "output_type": "execute_result"
    }
   ],
   "source": [
    "fig, ax = plt.subplots()\n",
    "ax.plot(results['lerr'], label='linear error')\n",
    "ax.plot(results['nlerr'], label='nonlinear error')\n",
    "ax.legend()"
   ]
  },
  {
   "cell_type": "markdown",
   "id": "b4363b79",
   "metadata": {},
   "source": [
    "We can create an animation of our results using the `Visualizer` class:"
   ]
  },
  {
   "cell_type": "code",
   "execution_count": 19,
   "id": "875629f4",
   "metadata": {},
   "outputs": [
    {
     "data": {
      "application/vnd.jupyter.widget-view+json": {
       "model_id": "a45c42032f8048c3ac2f46ac5ac1d407",
       "version_major": 2,
       "version_minor": 0
      },
      "text/plain": [
       "Canvas(toolbar=Toolbar(toolitems=[('Home', 'Reset original view', 'home', 'home'), ('Back', 'Back to previous …"
      ]
     },
     "metadata": {},
     "output_type": "display_data"
    }
   ],
   "source": [
    "visualizer = Visualizer(results, pend, speed=4)\n",
    "anim = visualizer.animate((9.5, 5))"
   ]
  },
  {
   "cell_type": "markdown",
   "id": "9fbcc5f6",
   "metadata": {},
   "source": [
    "Some systems may have trouble displaying animations in the browser. We can prerender the animation as an HTML5 video which will display at full speed on all platforms (this cell may take a while to execute.) "
   ]
  },
  {
   "cell_type": "code",
   "execution_count": null,
   "id": "d6087819",
   "metadata": {},
   "outputs": [],
   "source": [
    "HTML(anim.to_html5_video())"
   ]
  },
  {
   "cell_type": "code",
   "execution_count": null,
   "id": "7a9a823a",
   "metadata": {},
   "outputs": [],
   "source": []
  },
  {
   "cell_type": "code",
   "execution_count": null,
   "id": "72905d29",
   "metadata": {},
   "outputs": [],
   "source": []
  }
 ],
 "metadata": {
  "kernelspec": {
   "display_name": "Python 3",
   "language": "python",
   "name": "python3"
  },
  "language_info": {
   "codemirror_mode": {
    "name": "ipython",
    "version": 3
   },
   "file_extension": ".py",
   "mimetype": "text/x-python",
   "name": "python",
   "nbconvert_exporter": "python",
   "pygments_lexer": "ipython3",
   "version": "3.8.8"
  }
 },
 "nbformat": 4,
 "nbformat_minor": 5
}
