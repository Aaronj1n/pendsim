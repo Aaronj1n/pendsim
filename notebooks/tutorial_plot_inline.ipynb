{
 "cells": [
  {
   "cell_type": "markdown",
   "id": "da33a783",
   "metadata": {},
   "source": [
    "Set to True if you are running this notebook from Google Colab."
   ]
  },
  {
   "cell_type": "code",
   "execution_count": 1,
   "id": "364aafd2",
   "metadata": {},
   "outputs": [],
   "source": [
    "GOOGLE_COLAB = True"
   ]
  },
  {
   "cell_type": "code",
   "execution_count": 2,
   "id": "a04673b4",
   "metadata": {
    "scrolled": false
   },
   "outputs": [
    {
     "name": "stdout",
     "output_type": "stream",
     "text": [
      "/home/ms/prg/pendsim\n"
     ]
    }
   ],
   "source": [
    "if not GOOGLE_COLAB:\n",
    "    %cd ../\n",
    "else:\n",
    "    !pip install pendsim"
   ]
  },
  {
   "cell_type": "markdown",
   "id": "40a33e13",
   "metadata": {},
   "source": [
    "# Animation + Plot Example\n",
    "\n",
    "pendsim includes the ability to generate animated plots alongside the animation of the simulation. This is helpful when visualizing specific pendulum states along with the animation. For this example, we will create a PID controller with an Unscented Kalman Filter, and then visualize the measured state with the filtered measurements to see how this functionality might be used."
   ]
  },
  {
   "cell_type": "markdown",
   "id": "87f3648a",
   "metadata": {},
   "source": [
    "Arrange imports"
   ]
  },
  {
   "cell_type": "code",
   "execution_count": 3,
   "id": "526de856",
   "metadata": {
    "scrolled": false
   },
   "outputs": [],
   "source": [
    "from pendsim import sim, controller, viz\n",
    "import numpy as np\n",
    "import matplotlib.pyplot as plt"
   ]
  },
  {
   "cell_type": "markdown",
   "id": "79e8457a",
   "metadata": {},
   "source": [
    "Create a pendulum with a 2kg cart, 1kg mass, and 2-meter length. "
   ]
  },
  {
   "cell_type": "code",
   "execution_count": 4,
   "id": "f2122fde",
   "metadata": {},
   "outputs": [],
   "source": [
    "pend = sim.Pendulum(\n",
    "    2.0,\n",
    "    1.0,\n",
    "    2,0,\n",
    "    initial_state = np.array([0.0, 0.0, 0.1, 0.0])\n",
    ")"
   ]
  },
  {
   "cell_type": "markdown",
   "id": "16b134aa",
   "metadata": {},
   "source": [
    "Create a PID controller with gains `kp`, `ki`, `kd`.\n",
    "\n",
    "`dt` is specified here because the controller uses it."
   ]
  },
  {
   "cell_type": "code",
   "execution_count": 5,
   "id": "2e6a381a",
   "metadata": {},
   "outputs": [],
   "source": [
    "kp, ki, kd = 20.0, 0.0, 2.0\n",
    "\n",
    "dt = 0.02\n",
    "\n",
    "cont = controller.PID_UKF( \n",
    "    (kp, ki, kd), \n",
    "    pend,\n",
    "    dt,\n",
    "    0.2\n",
    ")"
   ]
  },
  {
   "cell_type": "markdown",
   "id": "3fe8e0be",
   "metadata": {},
   "source": [
    "Create a simulation object with a timestep `dt`, run time `t_final`, and an 20N impulse force that peaks at t= 2seconds"
   ]
  },
  {
   "cell_type": "code",
   "execution_count": 6,
   "id": "97d04fee",
   "metadata": {},
   "outputs": [],
   "source": [
    "t_final = 12.0\n",
    "def force(t):\n",
    "    return 20 * np.exp( -((t-2.0)/0.1)**2 )\n",
    "\n",
    "noise_scale = np.array([0.1,0.1,0.1,0.1])\n",
    "\n",
    "simu = sim.Simulation(dt, t_final, force, noise_scale=noise_scale)"
   ]
  },
  {
   "cell_type": "markdown",
   "id": "6eb76cde",
   "metadata": {},
   "source": [
    "Run the simulation with the pendulum and controller we created and store the simulation results into `results`"
   ]
  },
  {
   "cell_type": "code",
   "execution_count": 7,
   "id": "e77006e1",
   "metadata": {},
   "outputs": [
    {
     "name": "stderr",
     "output_type": "stream",
     "text": [
      "100%|██████████████████████████████████████████████████████| 600/600 [00:00<00:00, 807.91it/s]\n"
     ]
    }
   ],
   "source": [
    "results = simu.simulate(pend, cont)"
   ]
  },
  {
   "cell_type": "markdown",
   "id": "285beaf3",
   "metadata": {},
   "source": [
    "We can see the available states by printing `results.columns`.\n",
    "\n",
    "The `pltdata` dict stores all of the parameters for generating the animated plot. There are two types of animated plots: line plots and scatter plots. For line plots, we must supply the `linestyle` argument; for both types of plot, we must supply `label`, `color`, and `plotpoints` args. The key of `pltdata` is the same as the column contained in `results` that we want to measure and display in the animation.\n",
    "\n",
    "In this example, we display the \"true state\" theta, given by `('state', 't')`; the state actually measured by the controller, given by `('measured state', 't')`; and the estimated state, given by `('est','t')`. Note that the `('est','t')` column is one that is stored directly by the controller's `policy`."
   ]
  },
  {
   "cell_type": "code",
   "execution_count": 8,
   "id": "fff2db6d",
   "metadata": {},
   "outputs": [
    {
     "name": "stdout",
     "output_type": "stream",
     "text": [
      "MultiIndex([(         'state',              'x'),\n",
      "            (         'state',             'xd'),\n",
      "            (         'state',              't'),\n",
      "            (         'state',             'td'),\n",
      "            ('measured state',              'x'),\n",
      "            ('measured state',             'xd'),\n",
      "            ('measured state',              't'),\n",
      "            ('measured state',             'td'),\n",
      "            ('noise variance',              'x'),\n",
      "            ('noise variance',             'xd'),\n",
      "            ('noise variance',              't'),\n",
      "            ('noise variance',             'td'),\n",
      "            (           'res',              'x'),\n",
      "            (           'res',             'xd'),\n",
      "            (           'res',              't'),\n",
      "            (           'res',             'td'),\n",
      "            (           'est',              'x'),\n",
      "            (           'est',             'xd'),\n",
      "            (           'est',              't'),\n",
      "            (           'est',             'td'),\n",
      "            (        'energy',        'kinetic'),\n",
      "            (        'energy',      'potential'),\n",
      "            (        'energy',          'total'),\n",
      "            (        'forces',         'forces'),\n",
      "            ('control action', 'control action'),\n",
      "            (        'forces',            'pRx'),\n",
      "            (        'forces',            'pRy'),\n",
      "            (        'forces',             'pG'),\n",
      "            (        'forces',            'cRy'),\n",
      "            (        'forces',            'cRx'),\n",
      "            (        'forces',             'cG'),\n",
      "            (        'forces',             'cN')],\n",
      "           )\n"
     ]
    }
   ],
   "source": [
    "print(results.columns)\n",
    "pltdata = {\n",
    "    ('state', 't') : {\n",
    "        # The plot type, line or scatter\n",
    "        'type' : 'line',\n",
    "        # The label generated in the plot window\n",
    "        'label' : 'True theta',\n",
    "        # The style of the line, e.g. '--' produces a dotted line\n",
    "        'linestyle' : '-',\n",
    "        # The line color\n",
    "        'color' : 'r',\n",
    "        # The number of plot points to draw\n",
    "        'plotpoints' : 50,\n",
    "    },\n",
    "    ('measured state', 't') : {\n",
    "        'type' : 'scatter',\n",
    "        'label' : 'measured theta',\n",
    "        'color' : 'k',\n",
    "        'plotpoints' : 50,\n",
    "    },\n",
    "    ('est', 't') : {\n",
    "        'type' : 'line',\n",
    "        'label' : 'estimated theta',\n",
    "        'linestyle':'--',\n",
    "        'color' : 'g',\n",
    "        'plotpoints': 20,\n",
    "    }\n",
    "}"
   ]
  },
  {
   "cell_type": "markdown",
   "id": "77bf1ef4",
   "metadata": {},
   "source": [
    "Make an animation of the simulation. Make sure to bind the result of `visu.animate()` to a variable, because that is required in order to ensure that the animation will actually run."
   ]
  },
  {
   "cell_type": "code",
   "execution_count": 11,
   "id": "5142db10",
   "metadata": {},
   "outputs": [
    {
     "data": {
      "image/png": "iVBORw0KGgoAAAANSUhEUgAAAfIAAAHmCAYAAACI1gxdAAAAOXRFWHRTb2Z0d2FyZQBNYXRwbG90bGliIHZlcnNpb24zLjQuMiwgaHR0cHM6Ly9tYXRwbG90bGliLm9yZy8rg+JYAAAACXBIWXMAAAsTAAALEwEAmpwYAAAeGUlEQVR4nO3df5TddX3n8efLJEQ5tuFX5EdCO7Sm64laYTsN9lhbEYTQtcZSu8b+Shdrdmu1tT9OC9KjImwXbau0q21PKuxi1xbRljVb66HBH632SGBCsRIRE6EUEGUES6Ucwom894/54o7ZG5LMvZnv/cw8H+fMyf3+yJ3390uS59zv/c6QqkKSJLXpKX0PIEmS5s6QS5LUMEMuSVLDDLkkSQ0z5JIkNcyQS5LUsKV9DzAXxx13XE1MTPQ9hiRJ82LHjh1fraqVg7Y1GfKJiQmmpqb6HkOSpHmR5K79bfPSuiRJDes95EmemuTGJJ9JsjPJxX3PJElSK8bh0voe4MVV9XCSZcCnknykqm7oezBJksZd7yGvmR/2/nC3uKz78AfAS5J0EHq/tA6QZEmSW4D7gW1VtX3APpuTTCWZmp6envcZJUkaR2MR8qr6RlWdCqwG1iV5zoB9tlTVZFVNrlw58A58SZIWnbEI+ROq6l+AjwPrex5FkqQm9B7yJCuTHNU9fhrwEuDzvQ4lSVIjer/ZDTgRuCrJEma+sLimqv6q55kkSWpC7yGvqn8ETut7DkmSWtT7pXVJkjR3hlySpIYZckmSGmbIJUlqmCGXJKlhhlySpIYZckmSGmbIJUlqmCGXJKlhhlySpIYZckmSGmbIJUlqmCGXJKlhhlySpIYZckmSGmbIJUlqmCGXJKlhvYc8yclJPp7kc0l2JvnlvmeSJKkVS/seANgL/FpV3
