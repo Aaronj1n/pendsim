{
  "nbformat": 4,
  "nbformat_minor": 5,
  "metadata": {
    "kernelspec": {
      "display_name": "Python 3 (ipykernel)",
      "language": "python",
      "name": "python3"
    },
    "language_info": {
      "codemirror_mode": {
        "name": "ipython",
        "version": 3
      },
      "file_extension": ".py",
      "mimetype": "text/x-python",
      "name": "python",
      "nbconvert_exporter": "python",
      "pygments_lexer": "ipython3",
      "version": "3.7.10"
    },
    "colab": {
      "name": "tutorial_plot_inline.ipynb",
      "provenance": [],
      "include_colab_link": true
    }
  },
  "cells": [
    {
      "cell_type": "markdown",
      "metadata": {
        "id": "view-in-github",
        "colab_type": "text"
      },
      "source": [
        "<a href=\"https://colab.research.google.com/github/rland93/pendsim/blob/master/notebooks/tutorial_plot_inline.ipynb\" target=\"_parent\"><img src=\"https://colab.research.google.com/assets/colab-badge.svg\" alt=\"Open In Colab\"/></a>"
      ]
    },
    {
      "cell_type": "markdown",
      "metadata": {
        "id": "4a873ce7"
      },
      "source": [
        "Set to True if you are running this notebook from Google Colab."
      ],
      "id": "4a873ce7"
    },
    {
      "cell_type": "code",
      "metadata": {
        "id": "0ba4ac1c"
      },
      "source": [
        "GOOGLE_COLAB = True"
      ],
      "id": "0ba4ac1c",
      "execution_count": 1,
      "outputs": []
    },
    {
      "cell_type": "code",
      "metadata": {
        "scrolled": true,
        "id": "a111a871",
        "outputId": "447ae305-5f8d-49d2-9649-e3cb09538980",
        "colab": {
          "base_uri": "https://localhost:8080/"
        }
      },
      "source": [
        "if not GOOGLE_COLAB:\n",
        "    %cd ../\n",
        "else:\n",
        "    !pip install pendsim"
      ],
      "id": "a111a871",
      "execution_count": 2,
      "outputs": [
        {
          "output_type": "stream",
          "text": [
            "Collecting pendsim\n",
            "  Downloading pendsim-1.0.3-py3-none-any.whl (15 kB)\n",
            "Requirement already satisfied: scikit-learn in /usr/local/lib/python3.7/dist-packages (from pendsim) (0.22.2.post1)\n",
            "Requirement already satisfied: matplotlib in /usr/local/lib/python3.7/dist-packages (from pendsim) (3.2.2)\n",
            "Requirement already satisfied: numpy in /usr/local/lib/python3.7/dist-packages (from pendsim) (1.19.5)\n",
            "Requirement already satisfied: pandas in /usr/local/lib/python3.7/dist-packages (from pendsim) (1.1.5)\n",
            "Requirement already satisfied: pytest in /usr/local/lib/python3.7/dist-packages (from pendsim) (3.6.4)\n",
            "Requirement already satisfied: six in /usr/local/lib/python3.7/dist-packages (from pendsim) (1.15.0)\n",
            "Collecting filterpy\n",
            "  Downloading filterpy-1.4.5.zip (177 kB)\n",
            "\u001b[?25l\r\u001b[K     |█▉                              | 10 kB 33.6 MB/s eta 0:00:01\r\u001b[K     |███▊                            | 20 kB 28.6 MB/s eta 0:00:01\r\u001b[K     |█████▌                          | 30 kB 19.0 MB/s eta 0:00:01\r\u001b[K     |███████▍                        | 40 kB 15.6 MB/s eta 0:00:01\r\u001b[K     |█████████▏                      | 51 kB 6.6 MB/s eta 0:00:01\r\u001b[K     |███████████                     | 61 kB 7.8 MB/s eta 0:00:01\r\u001b[K     |████████████▉                   | 71 kB 8.1 MB/s eta 0:00:01\r\u001b[K     |██████████████▊                 | 81 kB 8.4 MB/s eta 0:00:01\r\u001b[K     |████████████████▋               | 92 kB 9.2 MB/s eta 0:00:01\r\u001b[K     |██████████████████▍             | 102 kB 7.6 MB/s eta 0:00:01\r\u001b[K     |████████████████████▎           | 112 kB 7.6 MB/s eta 0:00:01\r\u001b[K     |██████████████████████          | 122 kB 7.6 MB/s eta 0:00:01\r\u001b[K     |████████████████████████        | 133 kB 7.6 MB/s eta 0:00:01\r\u001b[K     |█████████████████████████▊      | 143 kB 7.6 MB/s eta 0:00:01\r\u001b[K     |███████████████████████████▋    | 153 kB 7.6 MB/s eta 0:00:01\r\u001b[K     |█████████████████████████████▌  | 163 kB 7.6 MB/s eta 0:00:01\r\u001b[K     |███████████████████████████████▎| 174 kB 7.6 MB/s eta 0:00:01\r\u001b[K     |████████████████████████████████| 177 kB 7.6 MB/s \n",
            "\u001b[?25hRequirement already satisfied: tqdm in /usr/local/lib/python3.7/dist-packages (from pendsim) (4.41.1)\n",
            "Requirement already satisfied: scipy in /usr/local/lib/python3.7/dist-packages (from pendsim) (1.4.1)\n",
            "Requirement already satisfied: kiwisolver>=1.0.1 in /usr/local/lib/python3.7/dist-packages (from matplotlib->pendsim) (1.3.1)\n",
            "Requirement already satisfied: python-dateutil>=2.1 in /usr/local/lib/python3.7/dist-packages (from matplotlib->pendsim) (2.8.1)\n",
            "Requirement already satisfied: pyparsing!=2.0.4,!=2.1.2,!=2.1.6,>=2.0.1 in /usr/local/lib/python3.7/dist-packages (from matplotlib->pendsim) (2.4.7)\n",
            "Requirement already satisfied: cycler>=0.10 in /usr/local/lib/python3.7/dist-packages (from matplotlib->pendsim) (0.10.0)\n",
            "Requirement already satisfied: pytz>=2017.2 in /usr/local/lib/python3.7/dist-packages (from pandas->pendsim) (2018.9)\n",
            "Requirement already satisfied: setuptools in /usr/local/lib/python3.7/dist-packages (from pytest->pendsim) (57.2.0)\n",
            "Requirement already satisfied: more-itertools>=4.0.0 in /usr/local/lib/python3.7/dist-packages (from pytest->pendsim) (8.8.0)\n",
            "Requirement already satisfied: pluggy<0.8,>=0.5 in /usr/local/lib/python3.7/dist-packages (from pytest->pendsim) (0.7.1)\n",
            "Requirement already satisfied: py>=1.5.0 in /usr/local/lib/python3.7/dist-packages (from pytest->pendsim) (1.10.0)\n",
            "Requirement already satisfied: atomicwrites>=1.0 in /usr/local/lib/python3.7/dist-packages (from pytest->pendsim) (1.4.0)\n",
            "Requirement already satisfied: attrs>=17.4.0 in /usr/local/lib/python3.7/dist-packages (from pytest->pendsim) (21.2.0)\n",
            "Requirement already satisfied: joblib>=0.11 in /usr/local/lib/python3.7/dist-packages (from scikit-learn->pendsim) (1.0.1)\n",
            "Building wheels for collected packages: filterpy\n",
            "  Building wheel for filterpy (setup.py) ... \u001b[?25l\u001b[?25hdone\n",
            "  Created wheel for filterpy: filename=filterpy-1.4.5-py3-none-any.whl size=110475 sha256=9d50bba2670bcb41e45570b25457ec695e01668c85dac7cb09a1a85a4ea7e03e\n",
            "  Stored in directory: /root/.cache/pip/wheels/ce/e0/ee/a2b3c5caab3418c1ccd8c4de573d4cbe13315d7e8b0a55fbc2\n",
            "Successfully built filterpy\n",
            "Installing collected packages: filterpy, pendsim\n",
            "Successfully installed filterpy-1.4.5 pendsim-1.0.3\n"
          ],
          "name": "stdout"
        }
      ]
    },
    {
      "cell_type": "markdown",
      "metadata": {
        "id": "b6f14249"
      },
      "source": [
        "# Animation + Plot Example\n",
        "\n",
        "pendsim includes the ability to generate animated plots alongside the animation of the simulation. This is helpful when visualizing specific pendulum states along with the animation. For this example, we will create a PID controller with an Unscented Kalman Filter, and then visualize the measured state with the filtered measurements to see how this functionality might be used."
      ],
      "id": "b6f14249"
    },
    {
      "cell_type": "markdown",
      "metadata": {
        "id": "b749e98d"
      },
      "source": [
        "Arrange imports"
      ],
      "id": "b749e98d"
    },
    {
      "cell_type": "code",
      "metadata": {
        "scrolled": false,
        "id": "4b565204"
      },
      "source": [
        "from pendsim import sim, controller, viz\n",
        "import numpy as np\n",
        "import matplotlib.pyplot as plt"
      ],
      "id": "4b565204",
      "execution_count": 3,
      "outputs": []
    },
    {
      "cell_type": "markdown",
      "metadata": {
        "id": "a830807b"
      },
      "source": [
        "Create a pendulum with a 2kg cart, 1kg mass, and 2-meter length. "
      ],
      "id": "a830807b"
    },
    {
      "cell_type": "code",
      "metadata": {
        "id": "1f13c7c2"
      },
      "source": [
        "pend = sim.Pendulum(\n",
        "    2.0,\n",
        "    1.0,\n",
        "    2,0,\n",
        "    initial_state = np.array([0.0, 0.0, 0.1, 0.0])\n",
        ")"
      ],
      "id": "1f13c7c2",
      "execution_count": 4,
      "outputs": []
    },
    {
      "cell_type": "markdown",
      "metadata": {
        "id": "ee8f31ea"
      },
      "source": [
        "Create a PID controller with gains `kp`, `ki`, `kd`.\n",
        "\n",
        "`dt` is specified here because the controller uses it."
      ],
      "id": "ee8f31ea"
    },
    {
      "cell_type": "code",
      "metadata": {
        "id": "84138258"
      },
      "source": [
        "kp, ki, kd = 20.0, 0.0, 2.0\n",
        "\n",
        "dt = 0.02\n",
        "\n",
        "cont = controller.PID_UKF( \n",
        "    (kp, ki, kd), \n",
        "    pend,\n",
        "    dt,\n",
        "    0.2\n",
        ")"
      ],
      "id": "84138258",
      "execution_count": 5,
      "outputs": []
    },
    {
      "cell_type": "markdown",
      "metadata": {
        "id": "f139305f"
      },
      "source": [
        "Create a simulation object with a timestep `dt`, run time `t_final`, and an 20N impulse force that peaks at t= 2seconds"
      ],
      "id": "f139305f"
    },
    {
      "cell_type": "code",
      "metadata": {
        "id": "994f0192"
      },
      "source": [
        "t_final = 12.0\n",
        "def force(t):\n",
        "    return 20 * np.exp( -((t-2.0)/0.1)**2 )\n",
        "\n",
        "noise_scale = np.array([0.1,0.1,0.1,0.1])\n",
        "\n",
        "simu = sim.Simulation(dt, t_final, force, noise_scale=noise_scale)"
      ],
      "id": "994f0192",
      "execution_count": 6,
      "outputs": []
    },
    {
      "cell_type": "markdown",
      "metadata": {
        "id": "88557abb"
      },
      "source": [
        "Run the simulation with the pendulum and controller we created and store the simulation results into `results`"
      ],
      "id": "88557abb"
    },
    {
      "cell_type": "code",
      "metadata": {
        "id": "5c084bb3",
        "outputId": "203cd93d-12f2-499c-b4cd-c64a84724f4d",
        "colab": {
          "base_uri": "https://localhost:8080/"
        }
      },
      "source": [
        "results = simu.simulate(pend, cont)"
      ],
      "id": "5c084bb3",
      "execution_count": 7,
      "outputs": [
        {
          "output_type": "stream",
          "text": [
            "100%|██████████| 600/600 [00:01<00:00, 484.08it/s]\n"
          ],
          "name": "stderr"
        }
      ]
    },
    {
      "cell_type": "markdown",
      "metadata": {
        "id": "9019d20d"
      },
      "source": [
        "We can see the available states by printing `results.columns`.\n",
        "\n",
        "The `pltdata` dict stores all of the parameters for generating the animated plot. There are two types of animated plots: line plots and scatter plots. For line plots, we must supply the `linestyle` argument; for both types of plot, we must supply `label`, `color`, and `plotpoints` args. The key of `pltdata` is the same as the column contained in `results` that we want to measure and display in the animation.\n",
        "\n",
        "In this example, we display the \"true state\" theta, given by `('state', 't')`; the state actually measured by the controller, given by `('measured state', 't')`; and the estimated state, given by `('est','t')`. Note that the `('est','t')` column is one that is stored directly by the controller's `policy`."
      ],
      "id": "9019d20d"
    },
    {
      "cell_type": "code",
      "metadata": {
        "id": "ca25e6ef",
        "outputId": "7ccf4f0b-8810-4e44-988d-73f6a8264840",
        "colab": {
          "base_uri": "https://localhost:8080/"
        }
      },
      "source": [
        "print(results.columns)\n",
        "pltdata = {\n",
        "    ('state', 't') : {\n",
        "        # The plot type, line or scatter\n",
        "        'type' : 'line',\n",
        "        # The label generated in the plot window\n",
        "        'label' : 'True theta',\n",
        "        # The style of the line, e.g. '--' produces a dotted line\n",
        "        'linestyle' : '-',\n",
        "        # The line color\n",
        "        'color' : 'r',\n",
        "        # The number of plot points to draw\n",
        "        'plotpoints' : 50,\n",
        "    },\n",
        "    ('measured state', 't') : {\n",
        "        'type' : 'scatter',\n",
        "        'label' : 'measured theta',\n",
        "        'color' : 'k',\n",
        "        'plotpoints' : 50,\n",
        "    },\n",
        "    ('est', 't') : {\n",
        "        'type' : 'line',\n",
        "        'label' : 'estimated theta',\n",
        "        'linestyle':'--',\n",
        "        'color' : 'g',\n",
        "        'plotpoints': 20,\n",
        "    }\n",
        "}"
      ],
      "id": "ca25e6ef",
      "execution_count": 8,
      "outputs": [
        {
          "output_type": "stream",
          "text": [
            "MultiIndex([(         'state',              'x'),\n",
            "            (         'state',             'xd'),\n",
            "            (         'state',              't'),\n",
            "            (         'state',             'td'),\n",
            "            ('measured state',              'x'),\n",
            "            ('measured state',             'xd'),\n",
            "            ('measured state',              't'),\n",
            "            ('measured state',             'td'),\n",
            "            ('noise variance',              'x'),\n",
            "            ('noise variance',             'xd'),\n",
            "            ('noise variance',              't'),\n",
            "            ('noise variance',             'td'),\n",
            "            (           'res',              'x'),\n",
            "            (           'res',             'xd'),\n",
            "            (           'res',              't'),\n",
            "            (           'res',             'td'),\n",
            "            (           'est',              'x'),\n",
            "            (           'est',             'xd'),\n",
            "            (           'est',              't'),\n",
            "            (           'est',             'td'),\n",
            "            (        'energy',        'kinetic'),\n",
            "            (        'energy',      'potential'),\n",
            "            (        'energy',          'total'),\n",
            "            (        'forces',         'forces'),\n",
            "            ('control action', 'control action'),\n",
            "            (         'state',            'xdd'),\n",
            "            (         'state',            'tdd'),\n",
            "            (        'forces',            'pRx'),\n",
            "            (        'forces',            'pRy'),\n",
            "            (        'forces',             'pG'),\n",
            "            (        'forces',            'cRy'),\n",
            "            (        'forces',            'cRx'),\n",
            "            (        'forces',             'cG'),\n",
            "            (        'forces',             'cN')],\n",
            "           )\n"
          ],
          "name": "stdout"
        }
      ]
    },
    {
      "cell_type": "markdown",
      "metadata": {
        "id": "d5569abf"
      },
      "source": [
        "Make an animation of the simulation. Make sure to bind the result of `visu.animate()` to a variable, because that is required in order to ensure that the animation will actually run."
      ],
      "id": "d5569abf"
    },
    {
      "cell_type": "code",
      "metadata": {
        "id": "90ba64d0",
        "outputId": "11166878-24b8-4893-8972-750d1032669d",
        "colab": {
          "base_uri": "https://localhost:8080/",
          "height": 293
        }
      },
      "source": [
        "visu = viz.Visualizer(results, pend, speed=1)\n",
        "ani = visu.animate(pltdata=pltdata)"
      ],
      "id": "90ba64d0",
      "execution_count": 10,
      "outputs": [
        {
          "output_type": "display_data",
          "data": {
            "image/png": "[encoded data removed]",
            "text/plain": [
              "<Figure size 576x324 with 2 Axes>"
            ]
          },
          "metadata": {
            "tags": [],
            "needs_background": "light"
          }
        }
      ]
    },
    {
      "cell_type": "markdown",
      "metadata": {
        "id": "93b01b94"
      },
      "source": [
        "In web-based notebooks, animations may not display correctly with just the matplotlib plots. It may be necessary to run the following cell to render and view an HTML5 video of the animation."
      ],
      "id": "93b01b94"
    },
    {
      "cell_type": "code",
      "metadata": {
        "id": "6f47ea98"
      },
      "source": [
        "from IPython.display import HTML\n",
        "HTML(ani.to_html5_video())"
      ],
      "id": "6f47ea98",
      "execution_count": null,
      "outputs": []
    }
  ]
}