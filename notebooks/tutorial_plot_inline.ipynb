{
 "cells": [
  {
   "cell_type": "markdown",
   "id": "5d5065de",
   "metadata": {
    "colab_type": "text",
    "id": "view-in-github"
   },
   "source": [
    "<a href=\"https://colab.research.google.com/github/rland93/pendsim/blob/master/notebooks/tutorial_plot_inline.ipynb\" target=\"_parent\"><img src=\"https://colab.research.google.com/assets/colab-badge.svg\" alt=\"Open In Colab\"/></a>"
   ]
  },
  {
   "cell_type": "markdown",
   "id": "cqARB-ZpPLEg",
   "metadata": {
    "id": "cqARB-ZpPLEg"
   },
   "source": [
    "Set to True if you are running this notebook from Google Colab."
   ]
  },
  {
   "cell_type": "code",
   "execution_count": null,
   "id": "pOW7wPOVPLEj",
   "metadata": {
    "id": "pOW7wPOVPLEj"
   },
   "outputs": [],
   "source": [
    "GOOGLE_COLAB = True"
   ]
  },
  {
   "cell_type": "code",
   "execution_count": null,
   "id": "hNYfK8tlPLEm",
   "metadata": {
    "colab": {
     "base_uri": "https://localhost:8080/"
    },
    "id": "hNYfK8tlPLEm",
    "outputId": "137761cd-5f48-4ba1-bf10-dfbebecf6eaf",
    "scrolled": false
   },
   "outputs": [],
   "source": [
    "import os, pathlib\n",
    "if not GOOGLE_COLAB:\n",
    "    os.chdir(pathlib.Path(globals()['_dh'][0]).parent)\n",
    "else:\n",
    "    !pip install git+https://github.com/rland93/pendsim.git"
   ]
  },
  {
   "cell_type": "markdown",
   "id": "WISjkEYpPLEo",
   "metadata": {
    "id": "WISjkEYpPLEo"
   },
   "source": [
    "# Animation + Plot Example\n",
    "\n",
    "pendsim includes the ability to generate animated plots alongside the animation of the simulation. This is helpful when visualizing specific pendulum states along with the animation. For this example, we will create a PID controller with an Unscented Kalman Filter, and then visualize the measured state with the filtered measurements to see how this functionality might be used."
   ]
  },
  {
   "cell_type": "markdown",
   "id": "xDNmuubRPLEo",
   "metadata": {
    "id": "xDNmuubRPLEo"
   },
   "source": [
    "Arrange imports"
   ]
  },
  {
   "cell_type": "code",
   "execution_count": null,
   "id": "wVgbzi6qPLEp",
   "metadata": {
    "id": "wVgbzi6qPLEp",
    "scrolled": false
   },
   "outputs": [],
   "source": [
    "from pendsim import sim, controller, viz\n",
    "import numpy as np\n",
    "import matplotlib.pyplot as plt"
   ]
  },
  {
   "cell_type": "markdown",
   "id": "SJcjIrilPLEq",
   "metadata": {
    "id": "SJcjIrilPLEq"
   },
   "source": [
    "Create a pendulum with a 2kg cart, 1kg mass, and 2-meter length. The initial state is given by the `initial_state` arg. The state array is $\\textbf{x}=[x, \\dot{x}, \\theta, \\dot{\\theta}]$ So in this case the pendulum starts slightly tipped over: $\\theta = 0.1$."
   ]
  },
  {
   "cell_type": "code",
   "execution_count": null,
   "id": "4CiIMLX3PLEr",
   "metadata": {
    "id": "4CiIMLX3PLEr"
   },
   "outputs": [],
   "source": [
    "pend = sim.Pendulum(\n",
    "    2.0,\n",
    "    1.0,\n",
    "    2,0,\n",
    "    initial_state = np.array([0.0, 0.0, 0.1, 0.0])\n",
    ")"
   ]
  },
  {
   "cell_type": "markdown",
   "id": "h8Si-etjPLEs",
   "metadata": {
    "id": "h8Si-etjPLEs"
   },
   "source": [
    "Create a PID controller with gains `kp`, `ki`, `kd`. For this example, we use the PID controller with an unscented Kalman Filter, so that we can visualize in real time the filter's performance at estimating the state (given as noisy, discrete points).\n",
    "\n",
    "PID_UKF takes one additional argument, `var_t`, which is the backwards window, in seconds, over which to measure the variance in the state. So, at every point, we look backward over a period of 0.2s, measure the variance, and then use the variance to estimate the true state from noise via Unscented Kalman Filtering. For more details about Unscented Kalman Filtering, see https://groups.seas.harvard.edu/courses/cs281/papers/unscented.pdf.\n",
    "\n",
    "`dt` is the timestep of the simulation. Because the simulation solves an I.V.P (Initial Value Problem) at every timestep to determine the simulated pendulum's position, `dt` can be large without introducing numerical errors. The controller's action is taken at intervals of `dt` and held constant throughout the interval. We must pass the same value for `dt` to the controller as is used by the simulation.\n",
    "\n",
    "So, because we are creating the controller here, `dt` is specified here."
   ]
  },
  {
   "cell_type": "code",
   "execution_count": null,
   "id": "OT8ZW3NxPLEu",
   "metadata": {
    "id": "OT8ZW3NxPLEu"
   },
   "outputs": [],
   "source": [
    "kp, ki, kd = 20.0, 0.0, 2.0\n",
    "\n",
    "dt = 0.02\n",
    "\n",
    "cont = controller.PID_UKF(\n",
    "    # PID gains\n",
    "    (kp, ki, kd), \n",
    "    pend,\n",
    "    dt,\n",
    "    # var_t\n",
    "    0.2\n",
    ")"
   ]
  },
  {
   "cell_type": "markdown",
   "id": "99h7HgYpPLEv",
   "metadata": {
    "id": "99h7HgYpPLEv"
   },
   "source": [
    "Create a simulation object with a timestep `dt`, run time `t_final`, and an 20N impulse force that peaks at t= 2seconds"
   ]
  },
  {
   "cell_type": "code",
   "execution_count": null,
   "id": "fVcPQZvgPLEx",
   "metadata": {
    "id": "fVcPQZvgPLEx"
   },
   "outputs": [],
   "source": [
    "t_final = 12.0\n",
    "def force(t):\n",
    "    return 20 * np.exp( -((t-2.0)/0.1)**2 )\n",
    "\n",
    "noise_scale = np.array([0.1,0.1,0.1,0.1])\n",
    "\n",
    "simu = sim.Simulation(dt, t_final, force, noise_scale=noise_scale)"
   ]
  },
  {
   "cell_type": "markdown",
   "id": "OYUYow1oPLEx",
   "metadata": {
    "id": "OYUYow1oPLEx"
   },
   "source": [
    "Run the simulation with the pendulum and controller we created and store the simulation results into `results`"
   ]
  },
  {
   "cell_type": "code",
   "execution_count": null,
   "id": "yQ1pZoDLPLEy",
   "metadata": {
    "colab": {
     "base_uri": "https://localhost:8080/"
    },
    "id": "yQ1pZoDLPLEy",
    "outputId": "f6dde4b2-bee5-4ca1-aa2c-333dbb94b19e"
   },
   "outputs": [],
   "source": [
    "results = simu.simulate(pend, cont)"
   ]
  },
  {
   "cell_type": "markdown",
   "id": "930ylWI_PLEy",
   "metadata": {
    "id": "930ylWI_PLEy"
   },
   "source": [
    "We can see the available states by printing `results.columns`.\n",
    "\n",
    "The `pltdata` dict stores all of the parameters for generating the animated plot. There are two types of animated plots: line plots and scatter plots. For line plots, we must supply the `linestyle` argument; for both types of plot, we must supply `label`, `color`, and `plotpoints` args. The key of `pltdata` is the same as the column contained in `results` that we want to measure and display in the animation.\n",
    "\n",
    "In this example, we display the \"true state\" theta, given by `('state', 't')`; the state actually measured by the controller, given by `('measured state', 't')`; and the estimated state, given by `('est','t')`. Note that the `('est','t')` column is one that is stored directly by the controller's `policy`."
   ]
  },
  {
   "cell_type": "code",
   "execution_count": null,
   "id": "8gh7ujftPLEz",
   "metadata": {
    "colab": {
     "base_uri": "https://localhost:8080/"
    },
    "id": "8gh7ujftPLEz",
    "outputId": "a82c5094-8623-42c3-ea30-19db79b04905"
   },
   "outputs": [],
   "source": [
    "print(results.columns)\n",
    "pltdata = {\n",
    "    ('state', 't') : {\n",
    "        # The plot type, line or scatter\n",
    "        'type' : 'line',\n",
    "        # The label generated in the plot window\n",
    "        'label' : 'true theta',\n",
    "        # The style of the line, e.g. '--' produces a dotted line\n",
    "        'linestyle' : '-',\n",
    "        # The line color\n",
    "        'color' : 'r',\n",
    "        # The number of plot points to draw on the canvas\n",
    "        'plotpoints' : 50,\n",
    "    },\n",
    "    ('measured state', 't') : {\n",
    "        # scatter types don't need `linestyle` kwarg.\n",
    "        'type' : 'scatter',\n",
    "        'label' : 'measured theta',\n",
    "        'color' : 'k',\n",
    "        'plotpoints' : 50,\n",
    "    },\n",
    "    ('est', 't') : {\n",
    "        'type' : 'line',\n",
    "        'label' : 'estimated theta',\n",
    "        'linestyle':'--',\n",
    "        'color' : 'g',\n",
    "        'plotpoints': 50,\n",
    "    }\n",
    "}"
   ]
  },
  {
   "cell_type": "markdown",
   "id": "i4C9EojIPLE0",
   "metadata": {
    "id": "i4C9EojIPLE0"
   },
   "source": [
    "Make an animation of the simulation. Make sure to bind the result of `visu.animate()` to a variable, because that is required in order to ensure that the animation will actually run."
   ]
  },
  {
   "cell_type": "code",
   "execution_count": null,
   "id": "a0oDRQguPLE0",
   "metadata": {
    "colab": {
     "base_uri": "https://localhost:8080/",
     "height": 518
    },
    "id": "a0oDRQguPLE0",
    "outputId": "2ac32fd3-8a19-4b62-d105-3f2e7b317c9c"
   },
   "outputs": [],
   "source": [
    "visu = viz.Visualizer(results, pend, dt, speed=1)\n",
    "ani = visu.animate(pltdata=pltdata)"
   ]
  },
  {
   "cell_type": "markdown",
   "id": "pXX8EXmEPLE1",
   "metadata": {
    "id": "pXX8EXmEPLE1"
   },
   "source": [
    "In web-based notebooks, animations may not display correctly with just the matplotlib plots. It may be necessary to run the following cell to render and view an HTML5 video of the animation."
   ]
  },
  {
   "cell_type": "code",
   "execution_count": null,
   "id": "rBDFOAcqPLE1",
   "metadata": {
    "colab": {
     "base_uri": "https://localhost:8080/",
     "height": 669
    },
    "id": "rBDFOAcqPLE1",
    "outputId": "305167ff-2416-480b-e094-e866b1213544"
   },
   "outputs": [],
   "source": [
    "from IPython.display import HTML\n",
    "HTML(ani.to_html5_video())"
   ]
  },
  {
   "cell_type": "code",
   "execution_count": null,
   "id": "1a116713",
   "metadata": {},
   "outputs": [],
   "source": []
  }
 ],
 "metadata": {
  "colab": {
   "include_colab_link": true,
   "name": "tutorial_plot_inline.ipynb",
   "provenance": []
  },
  "kernelspec": {
   "display_name": "pensim",
   "language": "python",
   "name": "python3"
  },
  "language_info": {
   "codemirror_mode": {
    "name": "ipython",
    "version": 3
   },
   "file_extension": ".py",
   "mimetype": "text/x-python",
   "name": "python",
   "nbconvert_exporter": "python",
   "pygments_lexer": "ipython3",
   "version": "3.7.9"
  }
 },
 "nbformat": 4,
 "nbformat_minor": 5
}
