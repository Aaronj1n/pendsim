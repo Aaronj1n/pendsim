{
 "cells": [
  {
   "cell_type": "markdown",
   "id": "4a873ce7",
   "metadata": {},
   "source": [
    "Set to True if you are running this notebook from Google Colab."
   ]
  },
  {
   "cell_type": "code",
   "execution_count": 1,
   "id": "0ba4ac1c",
   "metadata": {},
   "outputs": [],
   "source": [
    "GOOGLE_COLAB = False"
   ]
  },
  {
   "cell_type": "code",
   "execution_count": 2,
   "id": "a111a871",
   "metadata": {
    "scrolled": true
   },
   "outputs": [
    {
     "name": "stdout",
     "output_type": "stream",
     "text": [
      "/home/ms/prg/pendulum\n"
     ]
    }
   ],
   "source": [
    "if not GOOGLE_COLAB:\n",
    "    %cd ../\n",
    "else:\n",
    "    !pip install pendulum"
   ]
  },
  {
   "cell_type": "markdown",
   "id": "b6f14249",
   "metadata": {},
   "source": [
    "# Animation + Plot Example\n",
    "\n",
    "pendsim includes the ability to generate animated plots alongside the animation of the simulation. This is helpful when visualizing specific pendulum states along with the animation. For this example, we will create a PID controller with an Unscented Kalman Filter, and then visualize the measured state with the filtered measurements to see how this functionality might be used."
   ]
  },
  {
   "cell_type": "markdown",
   "id": "b749e98d",
   "metadata": {},
   "source": [
    "Arrange imports"
   ]
  },
  {
   "cell_type": "code",
   "execution_count": 3,
   "id": "4b565204",
   "metadata": {
    "scrolled": false
   },
   "outputs": [],
   "source": [
    "from pendsim import sim, controller, viz\n",
    "import numpy as np\n",
    "import matplotlib.pyplot as plt"
   ]
  },
  {
   "cell_type": "markdown",
   "id": "a830807b",
   "metadata": {},
   "source": [
    "Create a pendulum with a 2kg cart, 1kg mass, and 2-meter length. "
   ]
  },
  {
   "cell_type": "code",
   "execution_count": 4,
   "id": "1f13c7c2",
   "metadata": {},
   "outputs": [],
   "source": [
    "pend = sim.Pendulum(\n",
    "    2.0,\n",
    "    1.0,\n",
    "    2,0,\n",
    "    initial_state = np.array([0.0, 0.0, 0.1, 0.0])\n",
    ")"
   ]
  },
  {
   "cell_type": "markdown",
   "id": "ee8f31ea",
   "metadata": {},
   "source": [
    "Create a PID controller with gains `kp`, `ki`, `kd`.\n",
    "\n",
    "`dt` is specified here because the controller uses it."
   ]
  },
  {
   "cell_type": "code",
   "execution_count": 5,
   "id": "84138258",
   "metadata": {},
   "outputs": [],
   "source": [
    "kp, ki, kd = 20.0, 0.0, 2.0\n",
    "\n",
    "dt = 0.02\n",
    "\n",
    "cont = controller.PID_UKF( \n",
    "    (kp, ki, kd), \n",
    "    pend,\n",
    "    dt,\n",
    "    0.2\n",
    ")"
   ]
  },
  {
   "cell_type": "markdown",
   "id": "f139305f",
   "metadata": {},
   "source": [
    "Create a simulation object with a timestep `dt`, run time `t_final`, and an 20N impulse force that peaks at t= 2seconds"
   ]
  },
  {
   "cell_type": "code",
   "execution_count": 6,
   "id": "994f0192",
   "metadata": {},
   "outputs": [],
   "source": [
    "t_final = 12.0\n",
    "def force(t):\n",
    "    return 20 * np.exp( -((t-2.0)/0.1)**2 )\n",
    "\n",
    "noise_scale = np.array([0.1,0.1,0.1,0.1])\n",
    "\n",
    "simu = sim.Simulation(dt, t_final, force, noise_scale=noise_scale)"
   ]
  },
  {
   "cell_type": "markdown",
   "id": "88557abb",
   "metadata": {},
   "source": [
    "Run the simulation with the pendulum and controller we created and store the simulation results into `results`"
   ]
  },
  {
   "cell_type": "code",
   "execution_count": null,
   "id": "5c084bb3",
   "metadata": {},
   "outputs": [
    {
     "name": "stderr",
     "output_type": "stream",
     "text": [
      "  8%|████▏                                                  | 46/600 [00:00<00:01, 453.65it/s]"
     ]
    }
   ],
   "source": [
    "results = simu.simulate(pend, cont)"
   ]
  },
  {
   "cell_type": "markdown",
   "id": "9019d20d",
   "metadata": {},
   "source": [
    "We can see the available states by printing `results.columns`.\n",
    "\n",
    "The `pltdata` dict stores all of the parameters for generating the animated plot. There are two types of animated plots: line plots and scatter plots. For line plots, we must supply the `linestyle` argument; for both types of plot, we must supply `label`, `color`, and `plotpoints` args. The key of `pltdata` is the same as the column contained in `results` that we want to measure and display in the animation.\n",
    "\n",
    "In this example, we display the \"true state\" theta, given by `('state', 't')`; the state actually measured by the controller, given by `('measured state', 't')`; and the estimated state, given by `('est','t')`. Note that the `('est','t')` column is one that is stored directly by the controller's `policy`."
   ]
  },
  {
   "cell_type": "code",
   "execution_count": null,
   "id": "ca25e6ef",
   "metadata": {},
   "outputs": [],
   "source": [
    "print(results.columns)\n",
    "pltdata = {\n",
    "    ('state', 't') : {\n",
    "        # The plot type, line or scatter\n",
    "        'type' : 'line',\n",
    "        # The label generated in the plot window\n",
    "        'label' : 'True theta',\n",
    "        # The style of the line, e.g. '--' produces a dotted line\n",
    "        'linestyle' : '-',\n",
    "        # The line color\n",
    "        'color' : 'r',\n",
    "        # The number of plot points to draw\n",
    "        'plotpoints' : 50,\n",
    "    },\n",
    "    ('measured state', 't') : {\n",
    "        'type' : 'scatter',\n",
    "        'label' : 'measured theta',\n",
    "        'color' : 'k',\n",
    "        'plotpoints' : 50,\n",
    "    },\n",
    "    ('est', 't') : {\n",
    "        'type' : 'line',\n",
    "        'label' : 'estimated theta',\n",
    "        'linestyle':'--',\n",
    "        'color' : 'g',\n",
    "        'plotpoints': 20,\n",
    "    }\n",
    "}"
   ]
  },
  {
   "cell_type": "markdown",
   "id": "d5569abf",
   "metadata": {},
   "source": [
    "Make an animation of the simulation. Make sure to bind the result of `visu.animate()` to a variable, because that is required in order to ensure that the animation will actually run."
   ]
  },
  {
   "cell_type": "code",
   "execution_count": null,
   "id": "90ba64d0",
   "metadata": {},
   "outputs": [],
   "source": [
    "visu = viz.Visualizer(results, pend, speed=1)\n",
    "ani = visu.animate(pltdata=pltdata, blit=True)"
   ]
  },
  {
   "cell_type": "markdown",
   "id": "93b01b94",
   "metadata": {},
   "source": [
    "In web-based notebooks, animations may not display correctly with just the matplotlib plots. It may be necessary to run the following cell to render and view an HTML5 video of the animation."
   ]
  },
  {
   "cell_type": "code",
   "execution_count": null,
   "id": "6f47ea98",
   "metadata": {},
   "outputs": [],
   "source": [
    "from IPython.display import HTML\n",
    "HTML(ani.to_html5_video())"
   ]
  }
 ],
 "metadata": {
  "kernelspec": {
   "display_name": "Python 3 (ipykernel)",
   "language": "python",
   "name": "python3"
  },
  "language_info": {
   "codemirror_mode": {
    "name": "ipython",
    "version": 3
   },
   "file_extension": ".py",
   "mimetype": "text/x-python",
   "name": "python",
   "nbconvert_exporter": "python",
   "pygments_lexer": "ipython3",
   "version": "3.7.10"
  }
 },
 "nbformat": 4,
 "nbformat_minor": 5
}
