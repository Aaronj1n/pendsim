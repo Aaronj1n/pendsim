{
 "cells": [
  {
   "cell_type": "markdown",
   "source": [
    "Set to True if you are running this notebook from Google Colab."
   ],
   "metadata": {}
  },
  {
   "cell_type": "code",
   "execution_count": 1,
   "source": [
    "GOOGLE_COLAB = True"
   ],
   "outputs": [],
   "metadata": {}
  },
  {
   "cell_type": "code",
   "execution_count": null,
   "source": [
    "if not GOOGLE_COLAB:\n",
    "    %cd ../\n",
    "else:\n",
    "    !pip install pendsim"
   ],
   "outputs": [],
   "metadata": {
    "scrolled": false
   }
  },
  {
   "cell_type": "markdown",
   "source": [
    "# Animation + Plot Example\n",
    "\n",
    "pendsim includes the ability to generate animated plots alongside the animation of the simulation. This is helpful when visualizing specific pendulum states along with the animation. For this example, we will create a PID controller with an Unscented Kalman Filter, and then visualize the measured state with the filtered measurements to see how this functionality might be used."
   ],
   "metadata": {}
  },
  {
   "cell_type": "markdown",
   "source": [
    "Arrange imports"
   ],
   "metadata": {}
  },
  {
   "cell_type": "code",
   "execution_count": 3,
   "source": [
    "from pendsim import sim, controller, viz\n",
    "import numpy as np\n",
    "import matplotlib.pyplot as plt"
   ],
   "outputs": [],
   "metadata": {
    "scrolled": false
   }
  },
  {
   "cell_type": "markdown",
   "source": [
    "Create a pendulum with a 2kg cart, 1kg mass, and 2-meter length. "
   ],
   "metadata": {}
  },
  {
   "cell_type": "code",
   "execution_count": 4,
   "source": [
    "pend = sim.Pendulum(\n",
    "    2.0,\n",
    "    1.0,\n",
    "    2,0,\n",
    "    initial_state = np.array([0.0, 0.0, 0.1, 0.0])\n",
    ")"
   ],
   "outputs": [],
   "metadata": {}
  },
  {
   "cell_type": "markdown",
   "source": [
    "Create a PID controller with gains `kp`, `ki`, `kd`.\n",
    "\n",
    "`dt` is specified here because the controller uses it."
   ],
   "metadata": {}
  },
  {
   "cell_type": "code",
   "execution_count": 5,
   "source": [
    "kp, ki, kd = 20.0, 0.0, 2.0\n",
    "\n",
    "dt = 0.02\n",
    "\n",
    "cont = controller.PID_UKF( \n",
    "    (kp, ki, kd), \n",
    "    pend,\n",
    "    dt,\n",
    "    0.2\n",
    ")"
   ],
   "outputs": [],
   "metadata": {}
  },
  {
   "cell_type": "markdown",
   "source": [
    "Create a simulation object with a timestep `dt`, run time `t_final`, and an 20N impulse force that peaks at t= 2seconds"
   ],
   "metadata": {}
  },
  {
   "cell_type": "code",
   "execution_count": 6,
   "source": [
    "t_final = 12.0\n",
    "def force(t):\n",
    "    return 20 * np.exp( -((t-2.0)/0.1)**2 )\n",
    "\n",
    "noise_scale = np.array([0.1,0.1,0.1,0.1])\n",
    "\n",
    "simu = sim.Simulation(dt, t_final, force, noise_scale=noise_scale)"
   ],
   "outputs": [],
   "metadata": {}
  },
  {
   "cell_type": "markdown",
   "source": [
    "Run the simulation with the pendulum and controller we created and store the simulation results into `results`"
   ],
   "metadata": {}
  },
  {
   "cell_type": "code",
   "execution_count": null,
   "source": [
    "results = simu.simulate(pend, cont)"
   ],
   "outputs": [],
   "metadata": {}
  },
  {
   "cell_type": "markdown",
   "source": [
    "We can see the available states by printing `results.columns`.\n",
    "\n",
    "The `pltdata` dict stores all of the parameters for generating the animated plot. There are two types of animated plots: line plots and scatter plots. For line plots, we must supply the `linestyle` argument; for both types of plot, we must supply `label`, `color`, and `plotpoints` args. The key of `pltdata` is the same as the column contained in `results` that we want to measure and display in the animation.\n",
    "\n",
    "In this example, we display the \"true state\" theta, given by `('state', 't')`; the state actually measured by the controller, given by `('measured state', 't')`; and the estimated state, given by `('est','t')`. Note that the `('est','t')` column is one that is stored directly by the controller's `policy`."
   ],
   "metadata": {}
  },
  {
   "cell_type": "code",
   "execution_count": null,
   "source": [
    "print(results.columns)\n",
    "pltdata = {\n",
    "    ('state', 't') : {\n",
    "        # The plot type, line or scatter\n",
    "        'type' : 'line',\n",
    "        # The label generated in the plot window\n",
    "        'label' : 'True theta',\n",
    "        # The style of the line, e.g. '--' produces a dotted line\n",
    "        'linestyle' : '-',\n",
    "        # The line color\n",
    "        'color' : 'r',\n",
    "        # The number of plot points to draw\n",
    "        'plotpoints' : 50,\n",
    "    },\n",
    "    ('measured state', 't') : {\n",
    "        'type' : 'scatter',\n",
    "        'label' : 'measured theta',\n",
    "        'color' : 'k',\n",
    "        'plotpoints' : 50,\n",
    "    },\n",
    "    ('est', 't') : {\n",
    "        'type' : 'line',\n",
    "        'label' : 'estimated theta',\n",
    "        'linestyle':'--',\n",
    "        'color' : 'g',\n",
    "        'plotpoints': 20,\n",
    "    }\n",
    "}"
   ],
   "outputs": [],
   "metadata": {}
  },
  {
   "cell_type": "markdown",
   "source": [
    "Make an animation of the simulation. Make sure to bind the result of `visu.animate()` to a variable, because that is required in order to ensure that the animation will actually run."
   ],
   "metadata": {}
  },
  {
   "cell_type": "code",
   "execution_count": null,
   "source": [
    "visu = viz.Visualizer(results, pend, dt, speed=1)\n",
    "ani = visu.animate(pltdata=pltdata)"
   ],
   "outputs": [],
   "metadata": {}
  },
  {
   "cell_type": "markdown",
   "source": [
    "In web-based notebooks, animations may not display correctly with just the matplotlib plots. It may be necessary to run the following cell to render and view an HTML5 video of the animation."
   ],
   "metadata": {}
  },
  {
   "cell_type": "code",
   "execution_count": null,
   "source": [
    "from IPython.display import HTML\n",
    "HTML(ani.to_html5_video())"
   ],
   "outputs": [],
   "metadata": {}
  }
 ],
 "metadata": {
  "kernelspec": {
   "display_name": "Python 3 (ipykernel)",
   "language": "python",
   "name": "python3"
  },
  "language_info": {
   "codemirror_mode": {
    "name": "ipython",
    "version": 3
   },
   "file_extension": ".py",
   "mimetype": "text/x-python",
   "name": "python",
   "nbconvert_exporter": "python",
   "pygments_lexer": "ipython3",
   "version": "3.8.10"
  }
 },
 "nbformat": 4,
 "nbformat_minor": 5
}
