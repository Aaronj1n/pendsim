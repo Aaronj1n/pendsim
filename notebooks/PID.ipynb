{
 "cells": [
  {
   "cell_type": "markdown",
   "id": "98de4bd7",
   "metadata": {},
   "source": [
    "Set system path so that pendulum module can be found."
   ]
  },
  {
   "cell_type": "code",
   "execution_count": 1,
   "id": "ab5a1ebc",
   "metadata": {
    "scrolled": true
   },
   "outputs": [
    {
     "name": "stdout",
     "output_type": "stream",
     "text": [
      "/home/ms/prg/pendulum/venv/bin/python3\n",
      "3.8.8 (default, Apr 13 2021, 19:58:26) \n",
      "[GCC 7.3.0]\n"
     ]
    }
   ],
   "source": [
    "import sys\n",
    "sys.path.insert(1, '../')\n",
    "print(sys.executable)\n",
    "print(sys.version)\n",
    "\n",
    "%matplotlib ipympl"
   ]
  },
  {
   "cell_type": "markdown",
   "id": "f3df3e56",
   "metadata": {},
   "source": [
    "Import packages"
   ]
  },
  {
   "cell_type": "code",
   "execution_count": 2,
   "id": "562e4eee",
   "metadata": {},
   "outputs": [],
   "source": [
    "import numpy as np\n",
    "from pendulum import controller, pendulum, sim, utils\n",
    "from pendulum.viz import Visualizer\n",
    "from IPython.display import HTML\n",
    "import matplotlib.pyplot as plt"
   ]
  },
  {
   "cell_type": "markdown",
   "id": "34cfe71b",
   "metadata": {},
   "source": [
    "We set the timestep of the simulation (`dt`), the total simulation time (`t_final`), and create a pendulum. We set the pendulum to be in the upright position: \n",
    "\n",
    "$$ [x, \\dot{x}, \\theta, \\dot{\\theta}] = [0,0,0,0]$$"
   ]
  },
  {
   "cell_type": "code",
   "execution_count": 3,
   "id": "0ea20f95",
   "metadata": {},
   "outputs": [],
   "source": [
    "dt = 0.01\n",
    "t_final = 15\n",
    "pend = pendulum.Pendulum(2.0, 3.0, 2.0, initial_state=np.array([0,0,-.05,0]))"
   ]
  },
  {
   "cell_type": "markdown",
   "id": "ca3a4678",
   "metadata": {},
   "source": [
    "These parameters define our force function. We can define this function however we like; here, it is a sinusoidal impulse function that peaks at 4 seconds."
   ]
  },
  {
   "cell_type": "code",
   "execution_count": 10,
   "id": "fd2c2dfd",
   "metadata": {},
   "outputs": [
    {
     "data": {
      "application/vnd.jupyter.widget-view+json": {
       "model_id": "ed81a40649c64a0d85763de21c20314d",
       "version_major": 2,
       "version_minor": 0
      },
      "text/plain": [
       "Canvas(toolbar=Toolbar(toolitems=[('Home', 'Reset original view', 'home', 'home'), ('Back', 'Back to previous …"
      ]
     },
     "metadata": {},
     "output_type": "display_data"
    },
    {
     "data": {
      "text/plain": [
       "[<matplotlib.lines.Line2D at 0x7f218452d5b0>]"
      ]
     },
     "execution_count": 10,
     "metadata": {},
     "output_type": "execute_result"
    }
   ],
   "source": [
    "fig, ax = plt.subplots()\n",
    "c1, c2, c3, c4 = 2, 3.0, 7, 2\n",
    "fshift = 6\n",
    "force_fn = lambda t: c1 * np.sin(c2*t) * c3/(c4*np.sqrt(np.pi)) * np.exp(-((t-fshift)/c4)**2)\n",
    "fx = np.linspace(0,t_final, 500)\n",
    "fy = force_fn(fx)\n",
    "ax.plot(fx, fy)"
   ]
  },
  {
   "cell_type": "markdown",
   "id": "9692f877",
   "metadata": {},
   "source": [
    "Define the simulation with our parameters"
   ]
  },
  {
   "cell_type": "code",
   "execution_count": 11,
   "id": "f0768055",
   "metadata": {},
   "outputs": [],
   "source": [
    "simulation = sim.Simulation(dt, t_final, force_fn)"
   ]
  },
  {
   "cell_type": "markdown",
   "id": "20001881",
   "metadata": {},
   "source": [
    "We create a new LQR controller. $Q$ has the weighted cost function over the inputs; here, we penalize error in $\\theta$ highest. We also want to penalize control input, becuase it's assumed that we have finite actuation."
   ]
  },
  {
   "cell_type": "code",
   "execution_count": 44,
   "id": "d271ec98",
   "metadata": {},
   "outputs": [],
   "source": [
    "kp = 60\n",
    "ki = 0\n",
    "kd = 10\n",
    "\n",
    "cont = controller.PID(kp,ki,kd)"
   ]
  },
  {
   "cell_type": "markdown",
   "id": "1a75d4f1",
   "metadata": {},
   "source": [
    "`simulate` actually runs the simulation. It calculates the pendulum state for each dt from t=0 to t=`t_final`."
   ]
  },
  {
   "cell_type": "code",
   "execution_count": 45,
   "id": "1b00fc84",
   "metadata": {
    "scrolled": true
   },
   "outputs": [
    {
     "name": "stderr",
     "output_type": "stream",
     "text": [
      "100%|██████████| 1501/1501 [00:00<00:00, 2596.67it/s]\n"
     ]
    }
   ],
   "source": [
    "results = simulation.simulate(pend, cont, plot=False)"
   ]
  },
  {
   "cell_type": "markdown",
   "id": "3e9d50bd",
   "metadata": {},
   "source": [
    "We can create plots on the `results` dataframe returned by the simulation. For example, here is a plot of the states:"
   ]
  },
  {
   "cell_type": "code",
   "execution_count": 46,
   "id": "8d16d8f0",
   "metadata": {},
   "outputs": [
    {
     "data": {
      "application/vnd.jupyter.widget-view+json": {
       "model_id": "ef4800bda02449d88fba3beaa11b3a29",
       "version_major": 2,
       "version_minor": 0
      },
      "text/plain": [
       "Canvas(toolbar=Toolbar(toolitems=[('Home', 'Reset original view', 'home', 'home'), ('Back', 'Back to previous …"
      ]
     },
     "metadata": {},
     "output_type": "display_data"
    }
   ],
   "source": [
    "fig, ax = plt.subplots()\n",
    "for s in results['state']:\n",
    "    ax.plot(results[('state', s)], label=s)\n",
    "    ax.legend()"
   ]
  },
  {
   "cell_type": "markdown",
   "id": "4255474d",
   "metadata": {},
   "source": [
    "Here is a plot of the control actions over time."
   ]
  },
  {
   "cell_type": "code",
   "execution_count": 47,
   "id": "59ced37d",
   "metadata": {},
   "outputs": [
    {
     "data": {
      "application/vnd.jupyter.widget-view+json": {
       "model_id": "257e7a9c9d0d4c0b9396f712d225678f",
       "version_major": 2,
       "version_minor": 0
      },
      "text/plain": [
       "Canvas(toolbar=Toolbar(toolitems=[('Home', 'Reset original view', 'home', 'home'), ('Back', 'Back to previous …"
      ]
     },
     "metadata": {},
     "output_type": "display_data"
    },
    {
     "data": {
      "text/plain": [
       "<matplotlib.legend.Legend at 0x7f217fa100a0>"
      ]
     },
     "execution_count": 47,
     "metadata": {},
     "output_type": "execute_result"
    }
   ],
   "source": [
    "fig, ax = plt.subplots()\n",
    "ax.plot(results['control action'], label='control action')\n",
    "ax.plot(results['forces'], label='force')\n",
    "ax.plot(results[('state', 't')], label='theta')\n",
    "ax.legend()"
   ]
  },
  {
   "cell_type": "markdown",
   "id": "b4363b79",
   "metadata": {},
   "source": [
    "We can create an animation of our results using the `Visualizer` class:"
   ]
  },
  {
   "cell_type": "code",
   "execution_count": 48,
   "id": "875629f4",
   "metadata": {
    "scrolled": false
   },
   "outputs": [
    {
     "name": "stderr",
     "output_type": "stream",
     "text": [
      "../pendulum/viz.py:83: RuntimeWarning: More than 20 figures have been opened. Figures created through the pyplot interface (`matplotlib.pyplot.figure`) are retained until explicitly closed and may consume too much memory. (To control this warning, see the rcParam `figure.max_open_warning`).\n",
      "  fig, ax = plt.subplots(figsize=size)\n"
     ]
    },
    {
     "data": {
      "application/vnd.jupyter.widget-view+json": {
       "model_id": "c4887c1c94ac44f88c8c234e0b334580",
       "version_major": 2,
       "version_minor": 0
      },
      "text/plain": [
       "Canvas(toolbar=Toolbar(toolitems=[('Home', 'Reset original view', 'home', 'home'), ('Back', 'Back to previous …"
      ]
     },
     "metadata": {},
     "output_type": "display_data"
    }
   ],
   "source": [
    "visualizer = Visualizer(results, pend, speed=4)\n",
    "anim = visualizer.animate((9.5, 5))"
   ]
  },
  {
   "cell_type": "markdown",
   "id": "9fbcc5f6",
   "metadata": {},
   "source": [
    "Some systems may have trouble displaying animations in the browser. We can prerender the animation as an HTML5 video which will display at full speed on all platforms (this cell may take a while to execute.) "
   ]
  },
  {
   "cell_type": "code",
   "execution_count": null,
   "id": "d6087819",
   "metadata": {},
   "outputs": [],
   "source": [
    "HTML(anim.to_html5_video())"
   ]
  },
  {
   "cell_type": "code",
   "execution_count": null,
   "id": "7a9a823a",
   "metadata": {},
   "outputs": [],
   "source": []
  },
  {
   "cell_type": "code",
   "execution_count": null,
   "id": "72905d29",
   "metadata": {},
   "outputs": [],
   "source": []
  }
 ],
 "metadata": {
  "kernelspec": {
   "display_name": "Python 3",
   "language": "python",
   "name": "python3"
  },
  "language_info": {
   "codemirror_mode": {
    "name": "ipython",
    "version": 3
   },
   "file_extension": ".py",
   "mimetype": "text/x-python",
   "name": "python",
   "nbconvert_exporter": "python",
   "pygments_lexer": "ipython3",
   "version": "3.8.8"
  }
 },
 "nbformat": 4,
 "nbformat_minor": 5
}
