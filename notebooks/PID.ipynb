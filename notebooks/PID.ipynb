{
 "cells": [
  {
   "cell_type": "markdown",
   "id": "956c38da",
   "metadata": {
    "colab_type": "text",
    "id": "view-in-github"
   },
   "source": [
    "<a href=\"https://colab.research.google.com/github/rland93/pendsim/blob/master/notebooks/PID.ipynb\" target=\"_parent\"><img src=\"https://colab.research.google.com/assets/colab-badge.svg\" alt=\"Open In Colab\"/></a>"
   ]
  },
  {
   "cell_type": "markdown",
   "id": "a3bd638b",
   "metadata": {
    "id": "a3bd638b"
   },
   "source": [
    "Set to True if you are running this notebook from Google Colab."
   ]
  },
  {
   "cell_type": "code",
   "execution_count": null,
   "id": "0cfd559d",
   "metadata": {
    "id": "0cfd559d"
   },
   "outputs": [],
   "source": [
    "GOOGLE_COLAB = True"
   ]
  },
  {
   "cell_type": "code",
   "execution_count": null,
   "id": "4626d5c8",
   "metadata": {
    "colab": {
     "base_uri": "https://localhost:8080/"
    },
    "id": "4626d5c8",
    "outputId": "022509a9-4b7e-41ba-9610-4b26da07aa9d"
   },
   "outputs": [],
   "source": [
    "if not GOOGLE_COLAB:\n",
    "    %cd ../\n",
    "else:\n",
    "    !pip install git+https://github.com/rland93/pendsim.git"
   ]
  },
  {
   "cell_type": "code",
   "execution_count": null,
   "id": "7129082a",
   "metadata": {
    "id": "7129082a",
    "scrolled": false
   },
   "outputs": [],
   "source": [
    "from pendsim import sim, controller, viz\n",
    "import numpy as np\n",
    "import matplotlib.pyplot as plt\n",
    "from IPython.display import HTML"
   ]
  },
  {
   "cell_type": "markdown",
   "id": "ed39741c",
   "metadata": {
    "id": "ed39741c"
   },
   "source": [
    "# PID Notebook\n",
    "\n",
    "PID, or proportional-integral-derivative control, is a model-free feedback policy which uses prior state measurements to inform the current control action according to a simple set of rules.\n",
    "\n",
    "![PID.png](PID.png)\n",
    "\n",
    "The block diagram of the PID system in the time domain is shown above. The time-varying system experiences some input $r(t)$ and with a corresponding response $y(t)$. We have three gains, Kp, Ki, and Kd, each a simple scalar which corresponds to an operator. These operators are very simple and need only the error of the previous state $e(t)$ to generate the control signal $u(t)$. (Graphic is sourced from Wikipedia).\n",
    "\n",
    "For more information about PID control, see [Feedback Systems:\n",
    "An Introduction for Scientists and Engineers, Ch 10](https://people.duke.edu/~hpgavin/SystemID/References/Astrom-Feedback-2006.pdf), or for a less technical introduction, [Wikipedia](https://en.wikipedia.org/wiki/PID_controller)."
   ]
  },
  {
   "cell_type": "markdown",
   "id": "367cfe9b",
   "metadata": {
    "id": "367cfe9b"
   },
   "source": [
    "---\n",
    "To start, we create our system. Here, we have a cart/pendulum with a 2kg cart, 1kg mass, and 1-meter length. We create a PID controller that can resist the force given by the impulsive `force_func`, which peaks at $t=2$s and with magnitude 20N. The simulation lasts from $t=0$ to $t_{\\text{final}}=10$s.\n",
    "\n",
    "The feedback control policy is simple, but how can we set the gains for our controller? Fortunately, we are not too worried about the pendulum falling over, so we can experiment a bit, and hopefully gain some intuition about PID control."
   ]
  },
  {
   "cell_type": "code",
   "execution_count": null,
   "id": "adeeb64a",
   "metadata": {
    "id": "adeeb64a"
   },
   "outputs": [],
   "source": [
    "pend = sim.Pendulum(\n",
    "    2.0,\n",
    "    1.0,\n",
    "    2.0,\n",
    "    initial_state = np.array([0.0, 0.0, 0.0, 0.0])\n",
    ")\n",
    "\n",
    "dt, t_final = 0.01, 10\n",
    "def force_func(t):\n",
    "    return 20 * np.exp( -(  ((t-2.0)/0.1)**2) )\n",
    "simu10 = sim.Simulation(dt, t_final, force_func)"
   ]
  },
  {
   "cell_type": "markdown",
   "id": "615b91a2",
   "metadata": {
    "id": "615b91a2"
   },
   "source": [
    "A PID controller has three gains, that we call `kp`, `ki`, `kd` here. These are also called the proportional, integral, and derivative gains.\n",
    "\n",
    "To start, we set all to zero. This zero-gain controller fails to stabilize the pendulum system against the external force that's applied, becasue all of the coefficients in front of the actuation are 0! So, with all gains 0, the controller takes no action at all. We can see that as soon as the external force starts being applied, $\\theta$ sees a sudden increase and the pendulum is knocked over."
   ]
  },
  {
   "cell_type": "code",
   "execution_count": null,
   "id": "a3f9fe71",
   "metadata": {
    "colab": {
     "base_uri": "https://localhost:8080/",
     "height": 282
    },
    "id": "a3f9fe71",
    "outputId": "2be0be6f-fa72-43e4-b132-e9f438aa488d",
    "scrolled": false
   },
   "outputs": [],
   "source": [
    "kp, ki, kd = 0.0, 0.0, 0.0\n",
    "cont = controller.PID((kp, ki, kd))\n",
    "results = simu10.simulate(pend, cont)\n",
    "fig1, ax1 = plt.subplots()\n",
    "ax1.plot(results[('state','t')], 'k--', label='theta')\n",
    "\n",
    "plt.show()"
   ]
  },
  {
   "cell_type": "markdown",
   "id": "2c2877cc",
   "metadata": {},
   "source": [
    "And for a visual confirmation of our suspicion, we visualize the virtual experiment:"
   ]
  },
  {
   "cell_type": "code",
   "execution_count": null,
   "id": "07aaf68e",
   "metadata": {
    "colab": {
     "base_uri": "https://localhost:8080/",
     "height": 519
    },
    "id": "07aaf68e",
    "outputId": "b4874c95-b7f4-4d3a-d937-2c5a7346d828"
   },
   "outputs": [],
   "source": [
    "visu = viz.Visualizer(results, pend, dt)\n",
    "ani = visu.animate()\n",
    "HTML(ani.to_html5_video())"
   ]
  },
  {
   "cell_type": "markdown",
   "id": "1fa6e7bd",
   "metadata": {
    "id": "1fa6e7bd"
   },
   "source": [
    "To tune, we begin with the proportional gain, called `kp`. Let's start it at zero and slowly increase it, and see what happens. Let's create several controllers, increasing the gain by $k_p = k_p + 2.5$ for each controller. Our ultimate goal is to stabilize the pendulum system in the upright position. So that means we want $\\theta$ to settle at 0.\n",
    "\n",
    "For this simple PID policy, we are going to limit ourselves to stabilizing $\\theta$. Indeed, one of the big limitations of PID is that it only works for single-input, single-output (SISO) systems. So for our purposes, the input is the angle $\\theta$ and the output is the control actuation, $u$."
   ]
  },
  {
   "cell_type": "code",
   "execution_count": null,
   "id": "9038e91e",
   "metadata": {
    "colab": {
     "base_uri": "https://localhost:8080/"
    },
    "id": "9038e91e",
    "outputId": "3a191e23-4214-41fc-ff46-e9f2d6f38526"
   },
   "outputs": [],
   "source": [
    "# starting gain\n",
    "kp = 0.0\n",
    "# no of times to increase the gain\n",
    "n = 32\n",
    "# amount to increase by\n",
    "increase_by = 2.5\n",
    "# empty lists\n",
    "conts = []\n",
    "pends = [pend] * n\n",
    "gains = []\n",
    "for _ in range(n):\n",
    "    # increase the gain\n",
    "    kp += increase_by\n",
    "    # set ki, kd to 0\n",
    "    pid = kp, 0.0, 0.0\n",
    "    conts.append(controller.PID(pid))\n",
    "    gains.append(kp)\n",
    "# simulate each controller\n",
    "all_results = simu10.simulate_multiple(pends, conts)"
   ]
  },
  {
   "cell_type": "markdown",
   "id": "ba608916",
   "metadata": {
    "id": "ba608916"
   },
   "source": [
    "Now, let's see how $\\theta$ is performing for each gain."
   ]
  },
  {
   "cell_type": "code",
   "execution_count": null,
   "id": "f3a5e0b9",
   "metadata": {
    "colab": {
     "base_uri": "https://localhost:8080/",
     "height": 1000
    },
    "id": "f3a5e0b9",
    "outputId": "1070f5dd-ac76-45b6-f542-ac65db679c4c",
    "scrolled": false
   },
   "outputs": [],
   "source": [
    "nrows, ncols = 8, 4\n",
    "fig1, ax1 = plt.subplots(nrows=nrows, ncols=ncols, sharex=True, figsize=(15,20))\n",
    "axn, ax_idxs = 0, {}\n",
    "for i in range(nrows):\n",
    "    for j in range(ncols):\n",
    "        ax_idxs[axn] = (i, j)\n",
    "        axn += 1\n",
    "for g, (idx, res), (axi, axj) in zip(gains, all_results.groupby(level=0), ax_idxs.values()):\n",
    "    res.index = res.index.droplevel(0)\n",
    "    ax1[axi, axj].plot(res[('state', 't')])\n",
    "    ax1[axi, axj].set_title('gain=' + str(g))\n",
    "    ax1[axi, axj].set_ylabel('angle (rad)')\n",
    "plt.show()"
   ]
  },
  {
   "cell_type": "markdown",
   "id": "3ff3e136",
   "metadata": {
    "id": "3ff3e136"
   },
   "source": [
    "So, here we can see that right around $k_p=50.0$, we get a stabilization of the pendulum, instead of theta getting away faster than the controller can stabilize it. Let's tune a bit more aggressively than the marginal case and set our gain: $k_p=80.0$.\n",
    "\n",
    "These results should make intuitive sense with a bit of control systems knowledge: adding a proportional gain, in general, makes the system response faster. We also can see some instability in the system as well: as we increase the gain, so too the oscillations increase.\n",
    "\n",
    "The pendulum is (somewhat) stable around $\\theta=0$, but we still have a pesky oscillation. Can we remove it?\n",
    "\n",
    "There is one more thing going on here. It appears that the system is oscillating, but also that the oscillations are increasing in magnitude. Eventually, this instability will compound enough to topple the pendulum, despite having a proportional controller in place with a suitable gain. To see this, we can increase the simulation time, this time to 40 seconds instead of 10."
   ]
  },
  {
   "cell_type": "code",
   "execution_count": null,
   "id": "6983916e",
   "metadata": {
    "colab": {
     "base_uri": "https://localhost:8080/"
    },
    "id": "6983916e",
    "outputId": "9efb2679-918a-42a0-f146-fc4368cba531"
   },
   "outputs": [],
   "source": [
    "kp = 80.0\n",
    "cont = controller.PID( (kp, 0, 0) )\n",
    "simu30 = sim.Simulation(dt, 40, force_func)\n",
    "res_proportional = simu30.simulate(pend, cont)\n"
   ]
  },
  {
   "cell_type": "markdown",
   "id": "78a37ca6",
   "metadata": {
    "id": "78a37ca6"
   },
   "source": [
    "And we plot our longer-term simulation:"
   ]
  },
  {
   "cell_type": "code",
   "execution_count": null,
   "id": "f97c8a1f",
   "metadata": {
    "colab": {
     "base_uri": "https://localhost:8080/",
     "height": 282
    },
    "id": "f97c8a1f",
    "outputId": "3b0b1303-d2cf-4d1c-f7d3-27984f7a2d5d",
    "scrolled": true
   },
   "outputs": [],
   "source": [
    "_, ax = plt.subplots()\n",
    "ax.plot(res_proportional[('state', 't')])\n",
    "ax.set_ylabel(\"Angle (rads)\")\n",
    "ax.set_xlabel(\"Time (s)\")\n",
    "plt.show()"
   ]
  },
  {
   "cell_type": "markdown",
   "id": "701d3fa2",
   "metadata": {
    "id": "701d3fa2"
   },
   "source": [
    "We do see that at around the 30 second mark, the oscillation knocks over the pendulum. \n",
    "\n",
    "We also see what looks like a response associated with a positive real pole: a steady oscillation bounded by an envelope of an increasing exponential -- that is, until the whole thing gets knocked over. Physically, what is going on here? The proportional gain is reactive: it only can act on prior information -- the error during the previous sample. In some sense, the signal of the system is \"late\" by the time it propagates through the controller to the actuator. In a situation where $\\theta=0$, but where there was some error before, the controller is not acting on the error currently, it is acting on the error it sees from last sampling period. Therefore, it will take action to reduce the error even when none need be taken. "
   ]
  },
  {
   "cell_type": "markdown",
   "id": "e8e7aa43",
   "metadata": {},
   "source": [
    "This manifests as an oscillation: the controller pushes a little bit too hard right, and the pendulum overshoots a bit to the left; then, the controller pushes left, and the pendulum overshoots a bit (more!) to the right, and the process continues until the pendulum tips over."
   ]
  },
  {
   "cell_type": "markdown",
   "id": "28415af2",
   "metadata": {
    "id": "28415af2"
   },
   "source": [
    "The integral term, $k_i$, is not needed here; since the oscillations are centered at the zero point, there would be, if the oscillations were driven to zero, no steady state error. On the other hand, a derivative term seeks to drive the rate of change of the error closer to zero over time. Practically, this means that it can remove the type of steady oscillation we see here. \n",
    "\n",
    "Below, we follow the same experimental process for tuning: slowly increase $k_p$ and see the effects. In real-life systems, where failure can have expensive or dangerous consequences, tuning is a very delicate process, typically informed heavily by process knowledge. Here, we have no such limits. "
   ]
  },
  {
   "cell_type": "code",
   "execution_count": null,
   "id": "ff3b4580",
   "metadata": {
    "colab": {
     "base_uri": "https://localhost:8080/"
    },
    "id": "ff3b4580",
    "outputId": "b4307780-06d6-46bc-978c-d3dee3ca07c9"
   },
   "outputs": [],
   "source": [
    "kp = 80.0\n",
    "kd = 0.0\n",
    "n = 16\n",
    "increase_by = 1.25\n",
    "conts = []\n",
    "pends = [pend] * n\n",
    "gains = []\n",
    "for _ in range(n):\n",
    "    # increase the gain\n",
    "    kd += increase_by\n",
    "    # set ki, kd to 0\n",
    "    pid = kp, 0.0, kd\n",
    "    conts.append(controller.PID(pid))\n",
    "    gains.append(kd)\n",
    "# simulate each controller\n",
    "all_results = simu10.simulate_multiple(pends, conts)\n",
    "\n",
    "nrows, ncols = 4, 4\n",
    "fig1, ax1 = plt.subplots(nrows=nrows, ncols=ncols, sharex=True, sharey=True, figsize=(15,12))\n",
    "axn, ax_idxs = 0, {}\n",
    "for i in range(nrows):\n",
    "    for j in range(ncols):\n",
    "        ax_idxs[axn] = (i, j)\n",
    "        axn += 1\n",
    "for g, (idx, res), (axi, axj) in zip(gains, all_results.groupby(level=0), ax_idxs.values()):\n",
    "    res.index = res.index.droplevel(0)\n",
    "    ax1[axi, axj].plot(res[('state', 't')])\n",
    "    ax1[axi, axj].set_title('gain=' + str(g))\n",
    "    ax1[axi, axj].set_ylabel('angle (rad)')\n",
    "plt.show()"
   ]
  },
  {
   "cell_type": "markdown",
   "id": "610a331c",
   "metadata": {
    "id": "610a331c"
   },
   "source": [
    "Now, we look again at $\\theta$. It looks significantly better! The addition of a derivative component drives the oscillations towards zero. To see the effect, we can plot the two controllers next to one another, one with the $k_d$ and one without. "
   ]
  },
  {
   "cell_type": "code",
   "execution_count": null,
   "id": "80a68a33",
   "metadata": {
    "colab": {
     "base_uri": "https://localhost:8080/",
     "height": 282
    },
    "id": "80a68a33",
    "outputId": "9d12908c-5847-4f96-dbb5-44cb84283855",
    "scrolled": false
   },
   "outputs": [],
   "source": [
    "res_p_10 = simu10.simulate(pend, controller.PID((80, 0.0, 0.0)))\n",
    "res_pd_10 = simu10.simulate(pend, controller.PID((80, 0.0, 10)))\n",
    "\n",
    "fig, ax = plt.subplots()\n",
    "ax.plot(res_pd_10[('state', 't')], 'b-', label='With derivative')\n",
    "ax.plot(res_p_10[('state', 't')], 'r--', label='Without Derivative')\n",
    "ax.legend()\n",
    "plt.show()"
   ]
  },
  {
   "cell_type": "markdown",
   "id": "a666bf38",
   "metadata": {},
   "source": [
    "The difference is stark!\n",
    "\n",
    "Finally, we can look at a visualization of how this controller performed. "
   ]
  },
  {
   "cell_type": "code",
   "execution_count": null,
   "id": "2d2161a0",
   "metadata": {
    "colab": {
     "base_uri": "https://localhost:8080/",
     "height": 520
    },
    "id": "2d2161a0",
    "outputId": "2a148679-b048-4e54-db55-d6eceeaabfd1"
   },
   "outputs": [],
   "source": [
    "visu = viz.Visualizer(results, pend, dt)\n",
    "ani = visu.animate(blit=True)\n",
    "HTML(ani.to_html5_video())"
   ]
  },
  {
   "cell_type": "markdown",
   "id": "a61daac7",
   "metadata": {
    "id": "a61daac7"
   },
   "source": [
    "Since this simulation is relatively accurate, we expect that a pendulum with the same attributes (length, mass, etc.), if controlled by a controller with the same gain (as expressed in N of force applied), would have similar stability characteristics -- so long as we could accurately measure the state!\n",
    "\n",
    "Tuning a controller in simulation is a common way to implement a controller in a physical system when the consequences of bad tuning can be disasterous. If there were serious consequences to knocking over our pendulum, we would want to use the gains we have discovered here as a starting point."
   ]
  }
 ],
 "metadata": {
  "colab": {
   "include_colab_link": true,
   "name": "PID.ipynb",
   "provenance": []
  },
  "kernelspec": {
   "display_name": "pensim",
   "language": "python",
   "name": "python3"
  },
  "language_info": {
   "codemirror_mode": {
    "name": "ipython",
    "version": 3
   },
   "file_extension": ".py",
   "mimetype": "text/x-python",
   "name": "python",
   "nbconvert_exporter": "python",
   "pygments_lexer": "ipython3",
   "version": "3.7.9"
  }
 },
 "nbformat": 4,
 "nbformat_minor": 5
}
