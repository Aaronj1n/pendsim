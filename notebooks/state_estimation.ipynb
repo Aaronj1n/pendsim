{
 "cells": [
  {
   "cell_type": "markdown",
   "id": "af935436",
   "metadata": {
    "colab_type": "text",
    "id": "view-in-github"
   },
   "source": [
    "<a href=\"https://colab.research.google.com/github/rland93/pendsim/blob/master/notebooks/state_estimation.ipynb\" target=\"_parent\"><img src=\"https://colab.research.google.com/assets/colab-badge.svg\" alt=\"Open In Colab\"/></a>"
   ]
  },
  {
   "cell_type": "markdown",
   "id": "738f4a3b",
   "metadata": {},
   "source": [
    "Set to `True` if you are running this notebook in a Google Colab environment."
   ]
  },
  {
   "cell_type": "code",
   "execution_count": null,
   "id": "MefgD_X6XCma",
   "metadata": {
    "id": "MefgD_X6XCma"
   },
   "outputs": [],
   "source": [
    "GOOGLE_COLAB = True"
   ]
  },
  {
   "cell_type": "code",
   "execution_count": null,
   "id": "V24VocscXCme",
   "metadata": {
    "colab": {
     "base_uri": "https://localhost:8080/"
    },
    "id": "V24VocscXCme",
    "outputId": "bec0413f-62a8-4fca-e4a1-2b13e87caeec"
   },
   "outputs": [],
   "source": [
    "if not GOOGLE_COLAB:\n",
    "    %cd ../\n",
    "else:\n",
    "    !pip install git+https://github.com/rland93/pendsim.git"
   ]
  },
  {
   "cell_type": "code",
   "execution_count": null,
   "id": "GRE6F9uzXCmh",
   "metadata": {
    "id": "GRE6F9uzXCmh"
   },
   "outputs": [],
   "source": [
    "from pendsim import sim, controller, viz, utils\n",
    "import numpy as np\n",
    "import matplotlib.pyplot as plt\n",
    "import matplotlib.cm as cm\n",
    "from IPython.display import HTML\n",
    "print(controller.__file__)"
   ]
  },
  {
   "cell_type": "markdown",
   "id": "cbu251QEXCmi",
   "metadata": {
    "id": "cbu251QEXCmi"
   },
   "source": [
    "# State Estimation with Unscented Kalman Filter (UKF)\n",
    "All feedback control relies on measurements of the system state to inform the control actuation. This makes an accurate measurement or an estimation of the system state a very important factor in feedback control system performance. Here, we look at the Unscented Kalman Filter as a state estimator, and evaluate how a PID controller with accurate state estimation compares to the performance of one that does not.\n",
    "\n",
    "State estimation is the problem of estimating the true system state from noisy, incomplete, or lower-dimensional sensor inputs. A commonly used state estimator is the Kalman Filter. Here, we will use the Unscented Kalman Filter (UKF) to estimate the state, and see the impact that improved state estimation has on control outcomes, in comparison to simply using the noisy states as they are measured.\n",
    "\n",
    "In this example, we do have measurements for every dimension of the state, and we also have measurements at every feedback control step. However, the measurements we do have are noisy. So we are using UKF here to improve the *state feedback* outcome.\n",
    "\n",
    "Why use an Unscented Kalman Filter over an Extended or standard Kalman Filter?\n",
    "\n",
    "For one, we have a non-linear system. Because a simple Kalman Filter assumes linearity in system dynamics, it's likely that it will diverge, because the evolution of the pendulum system cannot be modeled linearly. An Extended Kalman Filter would improve this somewhat; it propagates the distribution of the inputs through a first-order linerization of the non-linear system. But, a first order linear approximation is just that: an approximation. This leads us to the UKF; in the UKF, a carefully chosen set of sample points is propagated through the *true* (non-linear!) system, which results in an improved estimation outcome.\n",
    "\n",
    "Such an estimate would not see errors inherent to treating of the system as linear (as in the Kalman Filter case) or errors arising from dropping higher-order terms from linearized system at each state (as in the Extended Kalman Filter case).\n",
    "\n",
    "With full state feedback, this filter will diverge only in the presence of un-modeled dynamics (external forces) or noise that is non-gaussian.\n",
    "\n",
    "For more information about the Unscented Kalman Filter, see https://groups.seas.harvard.edu/courses/cs281/papers/unscented.pdf. This module (and the UKF augmented controllers within) uses the wonderful python package `filterpy`, which has a companion [textbook](https://github.com/rlabbe/Kalman-and-Bayesian-Filters-in-Python/) that covers filtering in detail."
   ]
  },
  {
   "cell_type": "markdown",
   "id": "48a34c05",
   "metadata": {},
   "source": [
    "We will see the benefit of the filter, as well as its drawback, by introducing an un-modeled disturbance at $t=3$s. The benefit we see in the form of significantly improved estimation of state in the well-modeled region, and the drawback, in the form of a state-estimate divergence, where the system is ill-modeled. So, we introduce (and chart) an external force:"
   ]
  },
  {
   "cell_type": "code",
   "execution_count": null,
   "id": "149db057",
   "metadata": {},
   "outputs": [],
   "source": [
    "# a 50N bump at 3s\n",
    "c1, fshift = 50, 3\n",
    "def force_fn(t):\n",
    "    return c1 * np.exp(-((t - fshift) ** 2 /0.3))\n",
    "\n",
    "force_fn_ts = np.linspace(0,10, 1000)\n",
    "force_fn_fs = np.apply_along_axis(force_fn, 0, force_fn_ts)\n",
    "\n",
    "_, ax1 = plt.subplots()\n",
    "\n",
    "ax1.plot(force_fn_ts, force_fn_fs)\n",
    "ax1.set_xlabel(\"Time (s)\")\n",
    "ax1.set_ylabel(\"External Force (N)\")\n",
    "plt.show()"
   ]
  },
  {
   "cell_type": "markdown",
   "id": "dc9e847a",
   "metadata": {},
   "source": [
    "Simulation time of 10s, with timestep 0.01s.\n",
    "\n",
    "The pendulum has $M=4$kg, $m=1$kg, $l=3$m.\n",
    "\n",
    "The initial state is $\\textbf{x}=[x, \\dot{x}, \\theta, \\dot{\\theta}] = [0, 0, 0.05 rad, 0]$."
   ]
  },
  {
   "cell_type": "code",
   "execution_count": null,
   "id": "czpyidm2XCmk",
   "metadata": {
    "id": "czpyidm2XCmk"
   },
   "outputs": [],
   "source": [
    "dt, t_final = 0.01, 8\n",
    "# slightly tipped over\n",
    "pend = sim.Pendulum(4,1,3.0, initial_state=np.array([0,0,0.05,0]))"
   ]
  },
  {
   "cell_type": "markdown",
   "id": "pqfSCvYUXCml",
   "metadata": {
    "id": "pqfSCvYUXCml"
   },
   "source": [
    "We introduce a `noise_scale` to simulate gaussian noise on the system. This adds sensor noise, with a mean of the true variable value, and a variance scaled for each variable. Changing this vector scales the noise."
   ]
  },
  {
   "cell_type": "code",
   "execution_count": null,
   "id": "krW60Mw7XCml",
   "metadata": {
    "id": "krW60Mw7XCml"
   },
   "outputs": [],
   "source": [
    "noise_scale = np.array([.1,.1,.1,.1])\n",
    "simu = sim.Simulation(dt, t_final, force_fn, noise_scale=noise_scale)"
   ]
  },
  {
   "cell_type": "markdown",
   "id": "0RI9R6CNXCmm",
   "metadata": {
    "id": "0RI9R6CNXCmm"
   },
   "source": [
    "Here, we have two controllers: `pid` which takes action on the raw sensor measurement, and `pid_ukf` which estimates the state, and takes action based on the estimation. \n",
    "\n",
    "If its estimation is good, `pid_ukf` should outperform `pid`.\n",
    "\n",
    "The parameter `var_t` passed into `pid_ukf` is the window, in seconds, over which to estimate the variance of the measurements: a larger window produces a more accurate noise estimate, but is not as responsive."
   ]
  },
  {
   "cell_type": "code",
   "execution_count": null,
   "id": "qgGn--GfXCmm",
   "metadata": {
    "id": "qgGn--GfXCmm"
   },
   "outputs": [],
   "source": [
    "kp, ki, kd = (300.0, 0.0, 30.0)\n",
    "\n",
    "pid = controller.PID((kp, ki, kd))\n",
    "pid_ukf = controller.PID_UKF((kp, ki, kd), pend, dt, var_t=0.25)"
   ]
  },
  {
   "cell_type": "code",
   "execution_count": null,
   "id": "7S2JDpjUXCmo",
   "metadata": {
    "colab": {
     "base_uri": "https://localhost:8080/"
    },
    "id": "7S2JDpjUXCmo",
    "outputId": "e4db82c3-a6aa-438c-e225-2a1dad64fab0"
   },
   "outputs": [],
   "source": [
    "res_pid = simu.simulate(pend, pid)\n",
    "res_pid_ukf = simu.simulate(pend, pid_ukf)"
   ]
  },
  {
   "cell_type": "markdown",
   "id": "n-3eOwylXCmp",
   "metadata": {
    "id": "n-3eOwylXCmp"
   },
   "source": [
    "This generates a plot of the state, true state, and measured state for each state variable. We are most interested in $\\theta$, but we also might consider the other states to be important for different controllers or policies."
   ]
  },
  {
   "cell_type": "code",
   "execution_count": null,
   "id": "80ldE03SXCmq",
   "metadata": {
    "colab": {
     "base_uri": "https://localhost:8080/",
     "height": 441
    },
    "id": "80ldE03SXCmq",
    "outputId": "96ef2569-386c-4146-a120-ee2a155e69ac"
   },
   "outputs": [],
   "source": [
    "_, ax = plt.subplots(nrows=4, tight_layout=True, sharex=True, figsize=(14,10))\n",
    "labels = [r'$x$', r'$\\dot{x}$', r'$\\theta$', r'$\\dot{\\theta}$']\n",
    "for i, (sp, su, l) in enumerate(zip(res_pid['state'], res_pid_ukf['state'], labels)):\n",
    "  ax[i].scatter(res_pid_ukf.index, res_pid_ukf[('measured state', su)].values, color=\"grey\", label = 'measured ' + l, marker = '.', s=5)\n",
    "  ax[i].plot(res_pid_ukf[('est', su)] , \"r--\",  label = 'estimated ' + l)\n",
    "  ax[i].plot(res_pid_ukf[('state', su)], \"k-\", label = 'true ' + l)\n",
    "  ax[i].legend()\n",
    "ax[3].set_xlabel(\"Time (s)\")\n",
    "plt.show()"
   ]
  },
  {
   "cell_type": "markdown",
   "id": "slUrxs1eXCmr",
   "metadata": {
    "id": "slUrxs1eXCmr"
   },
   "source": [
    "Now, we can see the effect of our filter. The estimated state almost perfectly tracks with the true state. In fact, we used the exact same model in the filter as in the simulator, so theoretically, this is a \"perfect\" estimator: the estimated state tracks the simulated state perfectly, since the state noise is gaussian. It's nearly perfect... except, of course, in the area centered at $t=3$s where there is the external force! That external force is NOT part of the filter's understanding of the system dynamics (how could it be? It's external!) so of course, in that area, the filter has a hard time, and its estimate of the system state diverges from the true state. \n",
    "\n",
    "Once the external force is gone, the filter finds the true value again, because the system evolves in accordance with its prediction."
   ]
  },
  {
   "cell_type": "markdown",
   "id": "146a271a",
   "metadata": {},
   "source": [
    "Now, let's look at how the presence of the state estimator improves the control outcome."
   ]
  },
  {
   "cell_type": "code",
   "execution_count": null,
   "id": "U_pkx6ytXCmr",
   "metadata": {
    "colab": {
     "base_uri": "https://localhost:8080/",
     "height": 314
    },
    "id": "U_pkx6ytXCmr",
    "outputId": "8c62436d-0a1d-4840-b826-7cbd6ee8a937",
    "scrolled": true
   },
   "outputs": [],
   "source": [
    "_, ax3 = plt.subplots(figsize=(12,5), nrows=2, sharey=True, sharex=True)\n",
    "ax3[0].set_title(\"PID on noisy state measurements\")\n",
    "ax3[0].plot(res_pid[(\"control action\", \"control action\")], 'b', label='control action')\n",
    "ax3[0].plot(res_pid[(\"forces\", \"forces\")], 'r', label='external force')\n",
    "ax3[0].legend()\n",
    "ax3[0].set_title(\"PID on state estimated by UKF\")\n",
    "ax3[1].plot(res_pid_ukf[('control action', \"control action\")], 'b', label='control action')\n",
    "ax3[1].plot(res_pid_ukf[('forces', 'forces')], 'r', label='external force')\n",
    "ax3[1].legend()\n",
    "for a in ax3:\n",
    "    a.set_ylabel(\"Force (N)\")\n",
    "ax3[1].set_xlabel(\"Time (s)\")\n",
    "plt.show()"
   ]
  },
  {
   "cell_type": "markdown",
   "id": "lNvyQzR6XCms",
   "metadata": {
    "id": "lNvyQzR6XCms"
   },
   "source": [
    "Here, we see perhaps the clearest benefit of the state estimator: a significant reduction in actuation. Not only does the state estimator confer stability benefits, it also prevents the controller from actuating based on state noise. This means a reduction in wear, energy use, (in a physical system), etc.\n",
    "\n",
    "Quantitatively, this means less control actuation. If we assume that the controller takes an equal amount of energy to push left as it does right, then we can get an approximate comparison the energy between both controlleres by adding each control action"
   ]
  },
  {
   "cell_type": "code",
   "execution_count": null,
   "id": "YAPBH7SVXhL1",
   "metadata": {
    "colab": {
     "base_uri": "https://localhost:8080/"
    },
    "id": "YAPBH7SVXhL1",
    "outputId": "09006e11-c75d-406b-fa49-856e4673eb31",
    "scrolled": false
   },
   "outputs": [],
   "source": [
    "pid_sum = np.abs(res_pid[(\"control action\", \"control action\")].values).sum() / t_final\n",
    "pid_ukf_sum = np.abs(res_pid_ukf[(\"control action\", \"control action\")].values).sum() / t_final\n",
    "print(\"PID Only: {}\".format(round(pid_sum,2)))\n",
    "print(\"PID with State Estimator: {}\".format(round(pid_ukf_sum,2)))"
   ]
  },
  {
   "cell_type": "markdown",
   "id": "dd7f87e6",
   "metadata": {},
   "source": [
    "If energy use is an issue, this is a significant improvement!"
   ]
  },
  {
   "cell_type": "markdown",
   "id": "Kn-l08mOXCms",
   "metadata": {
    "id": "Kn-l08mOXCms"
   },
   "source": [
    "Finally, we can qualitatively see the difference. First, the standard PID, which actuates directly based on noisy state measurements:"
   ]
  },
  {
   "cell_type": "code",
   "execution_count": null,
   "id": "YCLmGBxQXCmt",
   "metadata": {
    "colab": {
     "base_uri": "https://localhost:8080/",
     "height": 493
    },
    "id": "YCLmGBxQXCmt",
    "outputId": "ce538415-8a10-4aa1-8ac4-3aa18242ac6e"
   },
   "outputs": [],
   "source": [
    "visu1 = viz.Visualizer(res_pid, pend, dt, speed=1)\n",
    "anim1 = visu1.animate()\n",
    "HTML(anim1.to_html5_video())"
   ]
  },
  {
   "cell_type": "markdown",
   "id": "He0rwipOXCmt",
   "metadata": {
    "id": "He0rwipOXCmt"
   },
   "source": [
    "Then, the PID with state estimation, where the controller actuates based on the UKF-filtered state:"
   ]
  },
  {
   "cell_type": "code",
   "execution_count": null,
   "id": "qcTLtgqfXCmu",
   "metadata": {
    "colab": {
     "base_uri": "https://localhost:8080/",
     "height": 516
    },
    "id": "qcTLtgqfXCmu",
    "outputId": "e89bc3dc-bb95-402f-fffa-12a5716943cc"
   },
   "outputs": [],
   "source": [
    "visu2 = viz.Visualizer(res_pid_ukf, pend, dt, speed=1)\n",
    "anim2 = visu2.animate()\n",
    "HTML(anim2.to_html5_video())"
   ]
  },
  {
   "cell_type": "code",
   "execution_count": null,
   "id": "cdb52f11",
   "metadata": {},
   "outputs": [],
   "source": []
  }
 ],
 "metadata": {
  "colab": {
   "include_colab_link": true,
   "name": "state_estimation.ipynb",
   "provenance": []
  },
  "interpreter": {
   "hash": "bce4c237aa98c6b40e6242ee7117af3948adf72bcca62f158a5071a7cbbd60f6"
  },
  "kernelspec": {
   "display_name": "pensim",
   "language": "python",
   "name": "python3"
  },
  "language_info": {
   "codemirror_mode": {
    "name": "ipython",
    "version": 3
   },
   "file_extension": ".py",
   "mimetype": "text/x-python",
   "name": "python",
   "nbconvert_exporter": "python",
   "pygments_lexer": "ipython3",
   "version": "3.7.9"
  }
 },
 "nbformat": 4,
 "nbformat_minor": 5
}
